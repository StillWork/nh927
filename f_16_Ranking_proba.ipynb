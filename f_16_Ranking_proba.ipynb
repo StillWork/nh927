{
 "cells": [
  {
   "cell_type": "markdown",
   "metadata": {},
   "source": [
    "# 분류 순위 평가\n",
    "- 점수가 아니라 분류 확률을 이용하는 경우\n",
    "- 분류 랭킹 평가에는 점수 또는 확률을 사용한다\n",
    " - decision_function() 지원: 선형 모델, SVM\n",
    " - predict_proba() 지원: 로지스티 회귀, 트리 계열"
   ]
  },
  {
   "cell_type": "code",
   "execution_count": 1,
   "metadata": {},
   "outputs": [],
   "source": [
    "import numpy as np\n",
    "import pandas as pd\n",
    "import matplotlib.pyplot as plt\n",
    "%matplotlib inline\n",
    "%config InlineBackend.figure_format = 'retina'"
   ]
  },
  {
   "cell_type": "code",
   "execution_count": 19,
   "metadata": {},
   "outputs": [],
   "source": [
    "from sklearn.metrics import confusion_matrix, classification_report, roc_curve, auc\n",
    "from sklearn.metrics import precision_recall_curve, average_precision_score\n",
    "\n",
    "from sklearn.model_selection import train_test_split\n",
    "from sklearn.linear_model import LogisticRegression"
   ]
  },
  {
   "cell_type": "markdown",
   "metadata": {},
   "source": [
    "## 데이터 다운로드"
   ]
  },
  {
   "cell_type": "code",
   "execution_count": 2,
   "metadata": {
    "scrolled": true
   },
   "outputs": [],
   "source": [
    "data = pd.read_csv(\"https://github.com/data-labs/data/raw/main/weight-height.csv\")\n",
    "\n",
    "# 성별 인코딩 (남:0, 여:1)\n",
    "data.Gender = data.Gender.map({'Male':0, 'Female':1})\n",
    "# 단위 변환 (인치, 파운드 --> cm, kg)\n",
    "data.Height = data.Height*2.54 # cm\n",
    "data.Weight = data.Weight*0.453592 # kg\n",
    "\n",
    "# 원본 백업\n",
    "df = data.copy()"
   ]
  },
  {
   "cell_type": "markdown",
   "metadata": {},
   "source": [
    "##  성별  예측\n",
    "- X: 키와 몸무게 (2개의 특성 사용)\n",
    "- y: 성별 (이진 분류 문제)"
   ]
  },
  {
   "cell_type": "code",
   "execution_count": 3,
   "metadata": {},
   "outputs": [
    {
     "data": {
      "text/plain": [
       "0.9216"
      ]
     },
     "execution_count": 3,
     "metadata": {},
     "output_type": "execute_result"
    }
   ],
   "source": [
    "X = df[[\"Height\", \"Weight\"]]\n",
    "y = df.Gender\n",
    "\n",
    "X_train, X_test, y_train, y_test = train_test_split(X, y)\n",
    "\n",
    "# 선형 분류 모델 생성 및 학습\n",
    "model = LogisticRegression() # (1) 모델 생성\n",
    "model.fit(X_train, y_train) # (2) 훈련\n",
    "model.score(X_test, y_test) # (3) 평가 (정확도)"
   ]
  },
  {
   "cell_type": "markdown",
   "metadata": {},
   "source": [
    "## 분류 기본 성능 평가"
   ]
  },
  {
   "cell_type": "code",
   "execution_count": 8,
   "metadata": {},
   "outputs": [],
   "source": [
    "def show_clf_result(y_test, y_pred):\n",
    "    print(confusion_matrix(y_test, y_pred))\n",
    "    print(classification_report(y_test, y_pred))"
   ]
  },
  {
   "cell_type": "code",
   "execution_count": 9,
   "metadata": {},
   "outputs": [
    {
     "name": "stdout",
     "output_type": "stream",
     "text": [
      "[[1157  103]\n",
      " [  93 1147]]\n",
      "              precision    recall  f1-score   support\n",
      "\n",
      "           0       0.93      0.92      0.92      1260\n",
      "           1       0.92      0.93      0.92      1240\n",
      "\n",
      "    accuracy                           0.92      2500\n",
      "   macro avg       0.92      0.92      0.92      2500\n",
      "weighted avg       0.92      0.92      0.92      2500\n",
      "\n"
     ]
    }
   ],
   "source": [
    "# 성별 예측치\n",
    "y_pred = model.predict(X_test)\n",
    "\n",
    "def show_clf_result(y_test, y_pred):\n",
    "    print(confusion_matrix(y_test, y_pred))\n",
    "    print(classification_report(y_test, y_pred))\n",
    "show_clf_result(y_test, y_pred)"
   ]
  },
  {
   "cell_type": "code",
   "execution_count": 11,
   "metadata": {},
   "outputs": [
    {
     "data": {
      "text/plain": [
       "array([[0.8217, 0.1783],\n",
       "       [0.0798, 0.9202],\n",
       "       [0.9145, 0.0855],\n",
       "       ...,\n",
       "       [0.5084, 0.4916],\n",
       "       [0.999 , 0.001 ],\n",
       "       [0.83  , 0.17  ]])"
      ]
     },
     "execution_count": 11,
     "metadata": {},
     "output_type": "execute_result"
    }
   ],
   "source": [
    "model.predict_proba(X_test).round(4)"
   ]
  },
  {
   "cell_type": "code",
   "execution_count": 16,
   "metadata": {},
   "outputs": [
    {
     "data": {
      "text/html": [
       "<div>\n",
       "<style scoped>\n",
       "    .dataframe tbody tr th:only-of-type {\n",
       "        vertical-align: middle;\n",
       "    }\n",
       "\n",
       "    .dataframe tbody tr th {\n",
       "        vertical-align: top;\n",
       "    }\n",
       "\n",
       "    .dataframe thead th {\n",
       "        text-align: right;\n",
       "    }\n",
       "</style>\n",
       "<table border=\"1\" class=\"dataframe\">\n",
       "  <thead>\n",
       "    <tr style=\"text-align: right;\">\n",
       "      <th></th>\n",
       "      <th>y_pred</th>\n",
       "      <th>y_test</th>\n",
       "      <th>prob</th>\n",
       "    </tr>\n",
       "  </thead>\n",
       "  <tbody>\n",
       "    <tr>\n",
       "      <th>8180</th>\n",
       "      <td>True</td>\n",
       "      <td>1</td>\n",
       "      <td>0.999996</td>\n",
       "    </tr>\n",
       "    <tr>\n",
       "      <th>6811</th>\n",
       "      <td>True</td>\n",
       "      <td>1</td>\n",
       "      <td>0.999991</td>\n",
       "    </tr>\n",
       "    <tr>\n",
       "      <th>7821</th>\n",
       "      <td>True</td>\n",
       "      <td>1</td>\n",
       "      <td>0.999986</td>\n",
       "    </tr>\n",
       "    <tr>\n",
       "      <th>5883</th>\n",
       "      <td>True</td>\n",
       "      <td>1</td>\n",
       "      <td>0.999985</td>\n",
       "    </tr>\n",
       "    <tr>\n",
       "      <th>5740</th>\n",
       "      <td>True</td>\n",
       "      <td>1</td>\n",
       "      <td>0.999980</td>\n",
       "    </tr>\n",
       "    <tr>\n",
       "      <th>...</th>\n",
       "      <td>...</td>\n",
       "      <td>...</td>\n",
       "      <td>...</td>\n",
       "    </tr>\n",
       "    <tr>\n",
       "      <th>900</th>\n",
       "      <td>False</td>\n",
       "      <td>0</td>\n",
       "      <td>0.000013</td>\n",
       "    </tr>\n",
       "    <tr>\n",
       "      <th>82</th>\n",
       "      <td>False</td>\n",
       "      <td>0</td>\n",
       "      <td>0.000012</td>\n",
       "    </tr>\n",
       "    <tr>\n",
       "      <th>1506</th>\n",
       "      <td>False</td>\n",
       "      <td>0</td>\n",
       "      <td>0.000003</td>\n",
       "    </tr>\n",
       "    <tr>\n",
       "      <th>4331</th>\n",
       "      <td>False</td>\n",
       "      <td>0</td>\n",
       "      <td>0.000002</td>\n",
       "    </tr>\n",
       "    <tr>\n",
       "      <th>2971</th>\n",
       "      <td>False</td>\n",
       "      <td>0</td>\n",
       "      <td>0.000002</td>\n",
       "    </tr>\n",
       "  </tbody>\n",
       "</table>\n",
       "<p>2500 rows × 3 columns</p>\n",
       "</div>"
      ],
      "text/plain": [
       "      y_pred  y_test      prob\n",
       "8180    True       1  0.999996\n",
       "6811    True       1  0.999991\n",
       "7821    True       1  0.999986\n",
       "5883    True       1  0.999985\n",
       "5740    True       1  0.999980\n",
       "...      ...     ...       ...\n",
       "900    False       0  0.000013\n",
       "82     False       0  0.000012\n",
       "1506   False       0  0.000003\n",
       "4331   False       0  0.000002\n",
       "2971   False       0  0.000002\n",
       "\n",
       "[2500 rows x 3 columns]"
      ]
     },
     "execution_count": 16,
     "metadata": {},
     "output_type": "execute_result"
    }
   ],
   "source": [
    "# 점수순으로 소팅한 테이블 만들기\n",
    "Z = pd.DataFrame({\"y_pred\":y_pred, \n",
    "                  \"y_test\":y_test, \"prob\":model.predict_proba(X_test)[:,1]}) \n",
    "Z = Z.sort_values(by=['prob'], ascending=False)\n",
    "Z"
   ]
  },
  {
   "cell_type": "markdown",
   "metadata": {},
   "source": [
    "## 예측값, 실제값, 분류 경계치(threshold) 보기\n",
    "\n",
    "- 예측값: 파란 선\n",
    "- 실제값: 붉은 점\n",
    "- 분류 경계치: 검정색 "
   ]
  },
  {
   "cell_type": "code",
   "execution_count": 17,
   "metadata": {},
   "outputs": [
    {
     "data": {
      "text/plain": [
       "[<matplotlib.lines.Line2D at 0x7f8749ba0c10>]"
      ]
     },
     "execution_count": 17,
     "metadata": {},
     "output_type": "execute_result"
    },
    {
     "data": {
      "image/png": "[encoded data removed]",
      "text/plain": [
       "<Figure size 720x288 with 1 Axes>"
      ]
     },
     "metadata": {
      "image/png": {
       "height": 248,
       "width": 595
      },
      "needs_background": "light"
     },
     "output_type": "display_data"
    }
   ],
   "source": [
    "N = 2500\n",
    "# N = 100\n",
    "plt.figure(figsize=(10,4))\n",
    "plt.scatter(range(N), Z.y_test.values[:N], c='r', s=2)\n",
    "plt.plot(Z.y_pred.values[:N], c='b')\n",
    "plt.plot(Z.prob.values[:N], c='k')"
   ]
  },
  {
   "cell_type": "code",
   "execution_count": 12,
   "metadata": {},
   "outputs": [],
   "source": [
    "y_pred = model.predict_proba(X_test)[:,1] > 0.5 # 분류기의 동작\n",
    "y_pred_high_recall = model.predict_proba(X_test)[:,1] > 0.2 # 분류기의 동작\n",
    "y_pred_high_prec = model.predict_proba(X_test)[:,1] > 0.9 # 분류기의 동작"
   ]
  },
  {
   "cell_type": "code",
   "execution_count": 13,
   "metadata": {},
   "outputs": [
    {
     "name": "stdout",
     "output_type": "stream",
     "text": [
      "[[1157  103]\n",
      " [  93 1147]]\n",
      "              precision    recall  f1-score   support\n",
      "\n",
      "           0       0.93      0.92      0.92      1260\n",
      "           1       0.92      0.93      0.92      1240\n",
      "\n",
      "    accuracy                           0.92      2500\n",
      "   macro avg       0.92      0.92      0.92      2500\n",
      "weighted avg       0.92      0.92      0.92      2500\n",
      "\n"
     ]
    }
   ],
   "source": [
    "show_clf_result(y_test, y_pred) # 확률 0.5를 기준으로 나누는 모델의 동작과 동일한 것"
   ]
  },
  {
   "cell_type": "code",
   "execution_count": 14,
   "metadata": {},
   "outputs": [
    {
     "name": "stdout",
     "output_type": "stream",
     "text": [
      "[[ 993  267]\n",
      " [  40 1200]]\n",
      "              precision    recall  f1-score   support\n",
      "\n",
      "           0       0.96      0.79      0.87      1260\n",
      "           1       0.82      0.97      0.89      1240\n",
      "\n",
      "    accuracy                           0.88      2500\n",
      "   macro avg       0.89      0.88      0.88      2500\n",
      "weighted avg       0.89      0.88      0.88      2500\n",
      "\n"
     ]
    }
   ],
   "source": [
    "show_clf_result(y_test, y_pred_high_recall) # 0.2 기준"
   ]
  },
  {
   "cell_type": "code",
   "execution_count": 15,
   "metadata": {
    "scrolled": true
   },
   "outputs": [
    {
     "name": "stdout",
     "output_type": "stream",
     "text": [
      "[[1244   16]\n",
      " [ 362  878]]\n",
      "              precision    recall  f1-score   support\n",
      "\n",
      "           0       0.77      0.99      0.87      1260\n",
      "           1       0.98      0.71      0.82      1240\n",
      "\n",
      "    accuracy                           0.85      2500\n",
      "   macro avg       0.88      0.85      0.85      2500\n",
      "weighted avg       0.88      0.85      0.85      2500\n",
      "\n"
     ]
    }
   ],
   "source": [
    "show_clf_result(y_test, y_pred_high_prec) # 0.9 기준"
   ]
  },
  {
   "cell_type": "markdown",
   "metadata": {},
   "source": [
    "## Precision-Recall 커브"
   ]
  },
  {
   "cell_type": "code",
   "execution_count": 21,
   "metadata": {},
   "outputs": [
    {
     "data": {
      "text/plain": [
       "<matplotlib.legend.Legend at 0x7f874a0ed340>"
      ]
     },
     "execution_count": 21,
     "metadata": {},
     "output_type": "execute_result"
    },
    {
     "data": {
      "image/png": "[encoded data removed]",
      "text/plain": [
       "<Figure size 432x432 with 1 Axes>"
      ]
     },
     "metadata": {
      "image/png": {
       "height": 370,
       "width": 385
      },
      "needs_background": "light"
     },
     "output_type": "display_data"
    }
   ],
   "source": [
    "prec, rcl, thres = precision_recall_curve(Z.y_test, Z.prob)\n",
    "ap = average_precision_score(Z.y_test, Z.prob)\n",
    "plt.figure(figsize=(6,6))\n",
    "plt.plot(rcl, prec, label='AP = %0.4f)' % ap)\n",
    "plt.xlim([0.0, 1.05])\n",
    "plt.ylim([0.0, 1.05])\n",
    "plt.xlabel('Recall')\n",
    "plt.ylabel('Precision')\n",
    "plt.legend(loc=\"lower right\")"
   ]
  },
  {
   "cell_type": "markdown",
   "metadata": {},
   "source": [
    "###  precision_recall 테이블\n",
    "- 정밀도, 리콜, 경계치 세가지 값을 리턴한다\n",
    "- P-R 테이블 보기 (리콜이 1인 곳의 값부터 보여준다: 위 P-R 그래프의 우하단부터)\n",
    "- 검증 데이터 2500개 중에 1922개의 샘플까지만 테이블에 들어있다\n",
    "- 리콜이 1에 도달한 이후는 더 그릴 필요가 없음"
   ]
  },
  {
   "cell_type": "code",
   "execution_count": 22,
   "metadata": {},
   "outputs": [
    {
     "data": {
      "text/html": [
       "<div>\n",
       "<style scoped>\n",
       "    .dataframe tbody tr th:only-of-type {\n",
       "        vertical-align: middle;\n",
       "    }\n",
       "\n",
       "    .dataframe tbody tr th {\n",
       "        vertical-align: top;\n",
       "    }\n",
       "\n",
       "    .dataframe thead th {\n",
       "        text-align: right;\n",
       "    }\n",
       "</style>\n",
       "<table border=\"1\" class=\"dataframe\">\n",
       "  <thead>\n",
       "    <tr style=\"text-align: right;\">\n",
       "      <th></th>\n",
       "      <th>precision</th>\n",
       "      <th>recall</th>\n",
       "    </tr>\n",
       "  </thead>\n",
       "  <tbody>\n",
       "    <tr>\n",
       "      <th>0</th>\n",
       "      <td>1.000000</td>\n",
       "      <td>0.000000</td>\n",
       "    </tr>\n",
       "    <tr>\n",
       "      <th>1</th>\n",
       "      <td>1.000000</td>\n",
       "      <td>0.000806</td>\n",
       "    </tr>\n",
       "    <tr>\n",
       "      <th>2</th>\n",
       "      <td>1.000000</td>\n",
       "      <td>0.001613</td>\n",
       "    </tr>\n",
       "    <tr>\n",
       "      <th>3</th>\n",
       "      <td>1.000000</td>\n",
       "      <td>0.002419</td>\n",
       "    </tr>\n",
       "    <tr>\n",
       "      <th>4</th>\n",
       "      <td>1.000000</td>\n",
       "      <td>0.003226</td>\n",
       "    </tr>\n",
       "    <tr>\n",
       "      <th>...</th>\n",
       "      <td>...</td>\n",
       "      <td>...</td>\n",
       "    </tr>\n",
       "    <tr>\n",
       "      <th>1960</th>\n",
       "      <td>0.632143</td>\n",
       "      <td>0.999194</td>\n",
       "    </tr>\n",
       "    <tr>\n",
       "      <th>1961</th>\n",
       "      <td>0.631820</td>\n",
       "      <td>0.999194</td>\n",
       "    </tr>\n",
       "    <tr>\n",
       "      <th>1962</th>\n",
       "      <td>0.631498</td>\n",
       "      <td>0.999194</td>\n",
       "    </tr>\n",
       "    <tr>\n",
       "      <th>1963</th>\n",
       "      <td>0.631177</td>\n",
       "      <td>0.999194</td>\n",
       "    </tr>\n",
       "    <tr>\n",
       "      <th>1964</th>\n",
       "      <td>0.631365</td>\n",
       "      <td>1.000000</td>\n",
       "    </tr>\n",
       "  </tbody>\n",
       "</table>\n",
       "<p>1965 rows × 2 columns</p>\n",
       "</div>"
      ],
      "text/plain": [
       "      precision    recall\n",
       "0      1.000000  0.000000\n",
       "1      1.000000  0.000806\n",
       "2      1.000000  0.001613\n",
       "3      1.000000  0.002419\n",
       "4      1.000000  0.003226\n",
       "...         ...       ...\n",
       "1960   0.632143  0.999194\n",
       "1961   0.631820  0.999194\n",
       "1962   0.631498  0.999194\n",
       "1963   0.631177  0.999194\n",
       "1964   0.631365  1.000000\n",
       "\n",
       "[1965 rows x 2 columns]"
      ]
     },
     "execution_count": 22,
     "metadata": {},
     "output_type": "execute_result"
    }
   ],
   "source": [
    "# 정밀도, 리콜 테이블\n",
    "PR = pd.DataFrame({\"precision\":prec[::-1], \"recall\":rcl[::-1]})\n",
    "PR"
   ]
  },
  {
   "cell_type": "code",
   "execution_count": 23,
   "metadata": {},
   "outputs": [
    {
     "data": {
      "text/plain": [
       "<AxesSubplot:>"
      ]
     },
     "execution_count": 23,
     "metadata": {},
     "output_type": "execute_result"
    },
    {
     "data": {
      "image/png": "[encoded data removed]",
      "text/plain": [
       "<Figure size 432x288 with 1 Axes>"
      ]
     },
     "metadata": {
      "image/png": {
       "height": 248,
       "width": 375
      },
      "needs_background": "light"
     },
     "output_type": "display_data"
    }
   ],
   "source": [
    "# P-R 테이블 내용을 그래프로 보기\n",
    "PR.plot()"
   ]
  },
  {
   "cell_type": "code",
   "execution_count": 24,
   "metadata": {},
   "outputs": [
    {
     "name": "stderr",
     "output_type": "stream",
     "text": [
      "<ipython-input-24-c7d0f975db69>:4: SettingWithCopyWarning: \n",
      "A value is trying to be set on a copy of a slice from a DataFrame.\n",
      "Try using .loc[row_indexer,col_indexer] = value instead\n",
      "\n",
      "See the caveats in the documentation: https://pandas.pydata.org/pandas-docs/stable/user_guide/indexing.html#returning-a-view-versus-a-copy\n",
      "  PR[\"prob\"] = thres[::-1]\n"
     ]
    },
    {
     "data": {
      "text/html": [
       "<div>\n",
       "<style scoped>\n",
       "    .dataframe tbody tr th:only-of-type {\n",
       "        vertical-align: middle;\n",
       "    }\n",
       "\n",
       "    .dataframe tbody tr th {\n",
       "        vertical-align: top;\n",
       "    }\n",
       "\n",
       "    .dataframe thead th {\n",
       "        text-align: right;\n",
       "    }\n",
       "</style>\n",
       "<table border=\"1\" class=\"dataframe\">\n",
       "  <thead>\n",
       "    <tr style=\"text-align: right;\">\n",
       "      <th></th>\n",
       "      <th>precision</th>\n",
       "      <th>recall</th>\n",
       "      <th>prob</th>\n",
       "    </tr>\n",
       "  </thead>\n",
       "  <tbody>\n",
       "    <tr>\n",
       "      <th>1</th>\n",
       "      <td>1.000000</td>\n",
       "      <td>0.000806</td>\n",
       "      <td>0.999996</td>\n",
       "    </tr>\n",
       "    <tr>\n",
       "      <th>2</th>\n",
       "      <td>1.000000</td>\n",
       "      <td>0.001613</td>\n",
       "      <td>0.999991</td>\n",
       "    </tr>\n",
       "    <tr>\n",
       "      <th>3</th>\n",
       "      <td>1.000000</td>\n",
       "      <td>0.002419</td>\n",
       "      <td>0.999986</td>\n",
       "    </tr>\n",
       "    <tr>\n",
       "      <th>4</th>\n",
       "      <td>1.000000</td>\n",
       "      <td>0.003226</td>\n",
       "      <td>0.999985</td>\n",
       "    </tr>\n",
       "    <tr>\n",
       "      <th>5</th>\n",
       "      <td>1.000000</td>\n",
       "      <td>0.004032</td>\n",
       "      <td>0.999980</td>\n",
       "    </tr>\n",
       "    <tr>\n",
       "      <th>...</th>\n",
       "      <td>...</td>\n",
       "      <td>...</td>\n",
       "      <td>...</td>\n",
       "    </tr>\n",
       "    <tr>\n",
       "      <th>1960</th>\n",
       "      <td>0.632143</td>\n",
       "      <td>0.999194</td>\n",
       "      <td>0.014183</td>\n",
       "    </tr>\n",
       "    <tr>\n",
       "      <th>1961</th>\n",
       "      <td>0.631820</td>\n",
       "      <td>0.999194</td>\n",
       "      <td>0.014004</td>\n",
       "    </tr>\n",
       "    <tr>\n",
       "      <th>1962</th>\n",
       "      <td>0.631498</td>\n",
       "      <td>0.999194</td>\n",
       "      <td>0.013984</td>\n",
       "    </tr>\n",
       "    <tr>\n",
       "      <th>1963</th>\n",
       "      <td>0.631177</td>\n",
       "      <td>0.999194</td>\n",
       "      <td>0.013758</td>\n",
       "    </tr>\n",
       "    <tr>\n",
       "      <th>1964</th>\n",
       "      <td>0.631365</td>\n",
       "      <td>1.000000</td>\n",
       "      <td>0.013727</td>\n",
       "    </tr>\n",
       "  </tbody>\n",
       "</table>\n",
       "<p>1964 rows × 3 columns</p>\n",
       "</div>"
      ],
      "text/plain": [
       "      precision    recall      prob\n",
       "1      1.000000  0.000806  0.999996\n",
       "2      1.000000  0.001613  0.999991\n",
       "3      1.000000  0.002419  0.999986\n",
       "4      1.000000  0.003226  0.999985\n",
       "5      1.000000  0.004032  0.999980\n",
       "...         ...       ...       ...\n",
       "1960   0.632143  0.999194  0.014183\n",
       "1961   0.631820  0.999194  0.014004\n",
       "1962   0.631498  0.999194  0.013984\n",
       "1963   0.631177  0.999194  0.013758\n",
       "1964   0.631365  1.000000  0.013727\n",
       "\n",
       "[1964 rows x 3 columns]"
      ]
     },
     "execution_count": 24,
     "metadata": {},
     "output_type": "execute_result"
    }
   ],
   "source": [
    "# PR 테이블의 첫 행은 삭제 (threshold와 행 갯수를 맞추기 위해서)\n",
    "PR = PR[1:]\n",
    "# treshold 컬럼 추가\n",
    "PR[\"prob\"] = thres[::-1]\n",
    "PR"
   ]
  },
  {
   "cell_type": "markdown",
   "metadata": {},
   "source": [
    "## 최소한의 리콜값 조건을 우선 선택하는 경우"
   ]
  },
  {
   "cell_type": "code",
   "execution_count": 29,
   "metadata": {},
   "outputs": [
    {
     "data": {
      "text/html": [
       "<div>\n",
       "<style scoped>\n",
       "    .dataframe tbody tr th:only-of-type {\n",
       "        vertical-align: middle;\n",
       "    }\n",
       "\n",
       "    .dataframe tbody tr th {\n",
       "        vertical-align: top;\n",
       "    }\n",
       "\n",
       "    .dataframe thead th {\n",
       "        text-align: right;\n",
       "    }\n",
       "</style>\n",
       "<table border=\"1\" class=\"dataframe\">\n",
       "  <thead>\n",
       "    <tr style=\"text-align: right;\">\n",
       "      <th></th>\n",
       "      <th>precision</th>\n",
       "      <th>recall</th>\n",
       "      <th>prob</th>\n",
       "    </tr>\n",
       "  </thead>\n",
       "  <tbody>\n",
       "    <tr>\n",
       "      <th>1711</th>\n",
       "      <td>0.720631</td>\n",
       "      <td>0.994355</td>\n",
       "      <td>0.060358</td>\n",
       "    </tr>\n",
       "    <tr>\n",
       "      <th>1712</th>\n",
       "      <td>0.720210</td>\n",
       "      <td>0.994355</td>\n",
       "      <td>0.060298</td>\n",
       "    </tr>\n",
       "    <tr>\n",
       "      <th>1713</th>\n",
       "      <td>0.719790</td>\n",
       "      <td>0.994355</td>\n",
       "      <td>0.059718</td>\n",
       "    </tr>\n",
       "    <tr>\n",
       "      <th>1714</th>\n",
       "      <td>0.719370</td>\n",
       "      <td>0.994355</td>\n",
       "      <td>0.059369</td>\n",
       "    </tr>\n",
       "    <tr>\n",
       "      <th>1715</th>\n",
       "      <td>0.718950</td>\n",
       "      <td>0.994355</td>\n",
       "      <td>0.058942</td>\n",
       "    </tr>\n",
       "    <tr>\n",
       "      <th>1716</th>\n",
       "      <td>0.718531</td>\n",
       "      <td>0.994355</td>\n",
       "      <td>0.058937</td>\n",
       "    </tr>\n",
       "    <tr>\n",
       "      <th>1717</th>\n",
       "      <td>0.718113</td>\n",
       "      <td>0.994355</td>\n",
       "      <td>0.058763</td>\n",
       "    </tr>\n",
       "    <tr>\n",
       "      <th>1718</th>\n",
       "      <td>0.717695</td>\n",
       "      <td>0.994355</td>\n",
       "      <td>0.058636</td>\n",
       "    </tr>\n",
       "    <tr>\n",
       "      <th>1719</th>\n",
       "      <td>0.717859</td>\n",
       "      <td>0.995161</td>\n",
       "      <td>0.058593</td>\n",
       "    </tr>\n",
       "    <tr>\n",
       "      <th>1720</th>\n",
       "      <td>0.717442</td>\n",
       "      <td>0.995161</td>\n",
       "      <td>0.058571</td>\n",
       "    </tr>\n",
       "    <tr>\n",
       "      <th>1721</th>\n",
       "      <td>0.717025</td>\n",
       "      <td>0.995161</td>\n",
       "      <td>0.058179</td>\n",
       "    </tr>\n",
       "    <tr>\n",
       "      <th>1722</th>\n",
       "      <td>0.716609</td>\n",
       "      <td>0.995161</td>\n",
       "      <td>0.057683</td>\n",
       "    </tr>\n",
       "    <tr>\n",
       "      <th>1723</th>\n",
       "      <td>0.716193</td>\n",
       "      <td>0.995161</td>\n",
       "      <td>0.057066</td>\n",
       "    </tr>\n",
       "    <tr>\n",
       "      <th>1724</th>\n",
       "      <td>0.715777</td>\n",
       "      <td>0.995161</td>\n",
       "      <td>0.057051</td>\n",
       "    </tr>\n",
       "    <tr>\n",
       "      <th>1725</th>\n",
       "      <td>0.715362</td>\n",
       "      <td>0.995161</td>\n",
       "      <td>0.056126</td>\n",
       "    </tr>\n",
       "    <tr>\n",
       "      <th>1726</th>\n",
       "      <td>0.714948</td>\n",
       "      <td>0.995161</td>\n",
       "      <td>0.056095</td>\n",
       "    </tr>\n",
       "    <tr>\n",
       "      <th>1727</th>\n",
       "      <td>0.714534</td>\n",
       "      <td>0.995161</td>\n",
       "      <td>0.056009</td>\n",
       "    </tr>\n",
       "    <tr>\n",
       "      <th>1728</th>\n",
       "      <td>0.714120</td>\n",
       "      <td>0.995161</td>\n",
       "      <td>0.055854</td>\n",
       "    </tr>\n",
       "    <tr>\n",
       "      <th>1729</th>\n",
       "      <td>0.713707</td>\n",
       "      <td>0.995161</td>\n",
       "      <td>0.055788</td>\n",
       "    </tr>\n",
       "    <tr>\n",
       "      <th>1730</th>\n",
       "      <td>0.713873</td>\n",
       "      <td>0.995968</td>\n",
       "      <td>0.055616</td>\n",
       "    </tr>\n",
       "    <tr>\n",
       "      <th>1731</th>\n",
       "      <td>0.714038</td>\n",
       "      <td>0.996774</td>\n",
       "      <td>0.054898</td>\n",
       "    </tr>\n",
       "    <tr>\n",
       "      <th>1732</th>\n",
       "      <td>0.713626</td>\n",
       "      <td>0.996774</td>\n",
       "      <td>0.054818</td>\n",
       "    </tr>\n",
       "    <tr>\n",
       "      <th>1733</th>\n",
       "      <td>0.713214</td>\n",
       "      <td>0.996774</td>\n",
       "      <td>0.054553</td>\n",
       "    </tr>\n",
       "    <tr>\n",
       "      <th>1734</th>\n",
       "      <td>0.712803</td>\n",
       "      <td>0.996774</td>\n",
       "      <td>0.054474</td>\n",
       "    </tr>\n",
       "    <tr>\n",
       "      <th>1735</th>\n",
       "      <td>0.712392</td>\n",
       "      <td>0.996774</td>\n",
       "      <td>0.054174</td>\n",
       "    </tr>\n",
       "    <tr>\n",
       "      <th>1736</th>\n",
       "      <td>0.711982</td>\n",
       "      <td>0.996774</td>\n",
       "      <td>0.054017</td>\n",
       "    </tr>\n",
       "    <tr>\n",
       "      <th>1737</th>\n",
       "      <td>0.711572</td>\n",
       "      <td>0.996774</td>\n",
       "      <td>0.053536</td>\n",
       "    </tr>\n",
       "    <tr>\n",
       "      <th>1738</th>\n",
       "      <td>0.711162</td>\n",
       "      <td>0.996774</td>\n",
       "      <td>0.052871</td>\n",
       "    </tr>\n",
       "    <tr>\n",
       "      <th>1739</th>\n",
       "      <td>0.710753</td>\n",
       "      <td>0.996774</td>\n",
       "      <td>0.052845</td>\n",
       "    </tr>\n",
       "    <tr>\n",
       "      <th>1740</th>\n",
       "      <td>0.710345</td>\n",
       "      <td>0.996774</td>\n",
       "      <td>0.052696</td>\n",
       "    </tr>\n",
       "  </tbody>\n",
       "</table>\n",
       "</div>"
      ],
      "text/plain": [
       "      precision    recall      prob\n",
       "1711   0.720631  0.994355  0.060358\n",
       "1712   0.720210  0.994355  0.060298\n",
       "1713   0.719790  0.994355  0.059718\n",
       "1714   0.719370  0.994355  0.059369\n",
       "1715   0.718950  0.994355  0.058942\n",
       "1716   0.718531  0.994355  0.058937\n",
       "1717   0.718113  0.994355  0.058763\n",
       "1718   0.717695  0.994355  0.058636\n",
       "1719   0.717859  0.995161  0.058593\n",
       "1720   0.717442  0.995161  0.058571\n",
       "1721   0.717025  0.995161  0.058179\n",
       "1722   0.716609  0.995161  0.057683\n",
       "1723   0.716193  0.995161  0.057066\n",
       "1724   0.715777  0.995161  0.057051\n",
       "1725   0.715362  0.995161  0.056126\n",
       "1726   0.714948  0.995161  0.056095\n",
       "1727   0.714534  0.995161  0.056009\n",
       "1728   0.714120  0.995161  0.055854\n",
       "1729   0.713707  0.995161  0.055788\n",
       "1730   0.713873  0.995968  0.055616\n",
       "1731   0.714038  0.996774  0.054898\n",
       "1732   0.713626  0.996774  0.054818\n",
       "1733   0.713214  0.996774  0.054553\n",
       "1734   0.712803  0.996774  0.054474\n",
       "1735   0.712392  0.996774  0.054174\n",
       "1736   0.711982  0.996774  0.054017\n",
       "1737   0.711572  0.996774  0.053536\n",
       "1738   0.711162  0.996774  0.052871\n",
       "1739   0.710753  0.996774  0.052845\n",
       "1740   0.710345  0.996774  0.052696"
      ]
     },
     "execution_count": 29,
     "metadata": {},
     "output_type": "execute_result"
    }
   ],
   "source": [
    "PR[1710:1740]"
   ]
  },
  {
   "cell_type": "code",
   "execution_count": 30,
   "metadata": {},
   "outputs": [
    {
     "name": "stdout",
     "output_type": "stream",
     "text": [
      "1719\n"
     ]
    }
   ],
   "source": [
    "# PR 테이블을 위에서부터 검색하여 처음으로 리콜값을 만족하는 지점을 argmax로 찾는다 (False 에서 처음으로 True가 되는 지점)\n",
    "recall_min = 0.995 # 원하는 리콜 최소값\n",
    "thres_cut = np.argmax(PR.recall >= recall_min)+1 # 조건을 만족하는 첫번째 위치\n",
    "print(thres_cut)"
   ]
  },
  {
   "cell_type": "code",
   "execution_count": 33,
   "metadata": {},
   "outputs": [
    {
     "name": "stdout",
     "output_type": "stream",
     "text": [
      "해당 지점 이전의 리콜 0.9943548387096774\n",
      "해당 지점의 리콜 0.9951612903225806\n",
      "해당 지점의 정밀도 0.7178592204770216\n",
      "경계치 (prob): 0.058592865003999205\n"
     ]
    }
   ],
   "source": [
    "print(\"해당 지점 이전의 리콜\", PR.recall[thres_cut-1])\n",
    "print(\"해당 지점의 리콜\", PR.recall[thres_cut])\n",
    "print(\"해당 지점의 정밀도\", PR.precision[thres_cut])\n",
    "print(\"경계치 (prob):\", PR.prob[thres_cut])"
   ]
  },
  {
   "cell_type": "code",
   "execution_count": 34,
   "metadata": {},
   "outputs": [
    {
     "data": {
      "text/plain": [
       "8180     True\n",
       "6811     True\n",
       "7821     True\n",
       "5883     True\n",
       "5740     True\n",
       "        ...  \n",
       "900     False\n",
       "82      False\n",
       "1506    False\n",
       "4331    False\n",
       "2971    False\n",
       "Name: prob, Length: 2500, dtype: bool"
      ]
     },
     "execution_count": 34,
     "metadata": {},
     "output_type": "execute_result"
    }
   ],
   "source": [
    "# 새로운 분류 경계치 thres_cut를 사용하여 분류를 다시 수행한다\n",
    "new_y_pred = Z[\"prob\"] >= PR.prob[thres_cut]\n",
    "new_y_pred"
   ]
  },
  {
   "cell_type": "code",
   "execution_count": 35,
   "metadata": {},
   "outputs": [],
   "source": [
    "# 예측값이 True인 샘플만의 인덱스 얻기\n",
    "new_index = new_y_pred.index[new_y_pred]"
   ]
  },
  {
   "cell_type": "code",
   "execution_count": 36,
   "metadata": {},
   "outputs": [
    {
     "data": {
      "text/plain": [
       "1719"
      ]
     },
     "execution_count": 36,
     "metadata": {},
     "output_type": "execute_result"
    }
   ],
   "source": [
    "len(new_index)"
   ]
  },
  {
   "cell_type": "code",
   "execution_count": 37,
   "metadata": {},
   "outputs": [
    {
     "data": {
      "text/plain": [
       "Int64Index([8180, 6811, 7821, 5883, 5740, 5214, 7324, 9002, 5655, 8442], dtype='int64')"
      ]
     },
     "execution_count": 37,
     "metadata": {},
     "output_type": "execute_result"
    }
   ],
   "source": [
    "new_index[:10]"
   ]
  },
  {
   "cell_type": "code",
   "execution_count": 39,
   "metadata": {
    "scrolled": true
   },
   "outputs": [
    {
     "data": {
      "text/plain": [
       "[<matplotlib.lines.Line2D at 0x7f874aa34ee0>]"
      ]
     },
     "execution_count": 39,
     "metadata": {},
     "output_type": "execute_result"
    },
    {
     "data": {
      "image/png": "[encoded data removed]",
      "text/plain": [
       "<Figure size 720x360 with 1 Axes>"
      ]
     },
     "metadata": {
      "image/png": {
       "height": 302,
       "width": 595
      },
      "needs_background": "light"
     },
     "output_type": "display_data"
    }
   ],
   "source": [
    "# 새로운 예측치 new_y_pred를 사용하여 예측값, 실제값, 분류 경계치 그리기\n",
    "N = 2500\n",
    "plt.figure(figsize=(10,5))\n",
    "plt.scatter(range(N), Z.y_test.values[:N], c='r', s=2)\n",
    "plt.plot(new_y_pred.values[:N], c='b')\n",
    "plt.plot(Z.prob.values[:N], c='k')"
   ]
  },
  {
   "cell_type": "code",
   "execution_count": 41,
   "metadata": {
    "scrolled": true
   },
   "outputs": [
    {
     "name": "stdout",
     "output_type": "stream",
     "text": [
      "[[ 775  485]\n",
      " [   6 1234]]\n",
      "              precision    recall  f1-score   support\n",
      "\n",
      "           0       0.99      0.62      0.76      1260\n",
      "           1       0.72      1.00      0.83      1240\n",
      "\n",
      "    accuracy                           0.80      2500\n",
      "   macro avg       0.86      0.81      0.80      2500\n",
      "weighted avg       0.86      0.80      0.80      2500\n",
      "\n"
     ]
    }
   ],
   "source": [
    "show_clf_result(Z.y_test, new_y_pred)"
   ]
  },
  {
   "cell_type": "markdown",
   "metadata": {},
   "source": [
    "## 최소한의 정밀도를 우선 선택하는 경우"
   ]
  },
  {
   "cell_type": "code",
   "execution_count": 42,
   "metadata": {},
   "outputs": [],
   "source": [
    "prec_min = 0.99\n",
    "thres_cut = np.argmax(PR.precision < prec_min)"
   ]
  },
  {
   "cell_type": "code",
   "execution_count": 44,
   "metadata": {},
   "outputs": [
    {
     "name": "stdout",
     "output_type": "stream",
     "text": [
      "해당 지점의 정밀도 0.9908972691807543\n",
      "해당 지점 다음 샘플의 정밀도 0.9896103896103896\n",
      "해당 지점의 리콜 0.614516129032258\n",
      "경계치 threshold (이상): 0.9472837560809068\n",
      "769\n"
     ]
    }
   ],
   "source": [
    "print(\"해당 지점의 정밀도\", PR.precision[thres_cut])\n",
    "print(\"해당 지점 다음 샘플의 정밀도\", PR.precision[thres_cut+1])\n",
    "print(\"해당 지점의 리콜\", PR.recall[thres_cut])\n",
    "print(\"경계치 threshold (이상):\", PR.prob[thres_cut])\n",
    "print(thres_cut)"
   ]
  },
  {
   "cell_type": "code",
   "execution_count": 46,
   "metadata": {},
   "outputs": [
    {
     "data": {
      "text/plain": [
       "769"
      ]
     },
     "execution_count": 46,
     "metadata": {},
     "output_type": "execute_result"
    }
   ],
   "source": [
    "# 새로운 예측치\n",
    "new_y_pred = Z[\"prob\"] >= PR.prob[thres_cut]\n",
    "# 1로 예측된 샘플수\n",
    "new_y_pred.sum()"
   ]
  },
  {
   "cell_type": "code",
   "execution_count": 47,
   "metadata": {},
   "outputs": [
    {
     "data": {
      "text/plain": [
       "769"
      ]
     },
     "execution_count": 47,
     "metadata": {},
     "output_type": "execute_result"
    }
   ],
   "source": [
    "# 새로운 예측값의 인덱스 얻기\n",
    "new_index = new_y_pred.index[new_y_pred].tolist()\n",
    "len(new_index)"
   ]
  },
  {
   "cell_type": "code",
   "execution_count": 48,
   "metadata": {},
   "outputs": [
    {
     "data": {
      "text/plain": [
       "[<matplotlib.lines.Line2D at 0x7f874ac93130>]"
      ]
     },
     "execution_count": 48,
     "metadata": {},
     "output_type": "execute_result"
    },
    {
     "data": {
      "image/png": "[encoded data removed]",
      "text/plain": [
       "<Figure size 720x360 with 1 Axes>"
      ]
     },
     "metadata": {
      "image/png": {
       "height": 302,
       "width": 595
      },
      "needs_background": "light"
     },
     "output_type": "display_data"
    }
   ],
   "source": [
    "# 새로운 예측치 new_y_pred를 사용하여 예측값, 실제값, 분류 경계치 그리기\n",
    "N = 2500\n",
    "plt.figure(figsize=(10,5))\n",
    "plt.scatter(range(N), Z.y_test.values[:N], c='r', s=2)\n",
    "plt.plot(new_y_pred.values[:N], c='b')\n",
    "plt.plot(Z.prob.values[:N], c='k')"
   ]
  },
  {
   "cell_type": "code",
   "execution_count": null,
   "metadata": {},
   "outputs": [],
   "source": []
  }
 ],
 "metadata": {
  "kernelspec": {
   "display_name": "Python 3",
   "language": "python",
   "name": "python3"
  },
  "language_info": {
   "codemirror_mode": {
    "name": "ipython",
    "version": 3
   },
   "file_extension": ".py",
   "mimetype": "text/x-python",
   "name": "python",
   "nbconvert_exporter": "python",
   "pygments_lexer": "ipython3",
   "version": "3.8.8"
  },
  "toc": {
   "base_numbering": 1,
   "nav_menu": {},
   "number_sections": false,
   "sideBar": true,
   "skip_h1_title": false,
   "title_cell": "Table of Contents",
   "title_sidebar": "Contents",
   "toc_cell": false,
   "toc_position": {
    "height": "calc(100% - 180px)",
    "left": "10px",
    "top": "150px",
    "width": "270px"
   },
   "toc_section_display": true,
   "toc_window_display": false
  }
 },
 "nbformat": 4,
 "nbformat_minor": 4
}
