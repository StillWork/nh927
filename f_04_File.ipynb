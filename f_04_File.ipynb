{
 "cells": [
  {
   "cell_type": "markdown",
   "id": "347d5735",
   "metadata": {},
   "source": [
    "# 파일 다루기\n",
    "- 파일 열기 open(), with로 열기\n",
    "- csv, xlsx 파일 다루기\n",
    "- zip 파일 다루기\n",
    "- 폴더 내 파일 목록 다루기 (glob, listdir)\n",
    "- 폴더/파일 생성과 삭제"
   ]
  },
  {
   "cell_type": "code",
   "execution_count": 11,
   "id": "9d63ff86",
   "metadata": {},
   "outputs": [],
   "source": [
    "import pandas as pd\n",
    "import numpy as np\n",
    "from numpy.random import rand\n",
    "import csv"
   ]
  },
  {
   "cell_type": "markdown",
   "id": "a4a76086",
   "metadata": {},
   "source": [
    "##  숫자 데이터  파일 생성"
   ]
  },
  {
   "cell_type": "code",
   "execution_count": 2,
   "id": "833365ac",
   "metadata": {},
   "outputs": [],
   "source": [
    "n=5\n",
    "lines =10\n",
    "with open('test_1.csv', 'w', encoding='UTF8') as f:\n",
    "    writer = csv.writer(f)\n",
    "    for i in range(lines):\n",
    "        row = []\n",
    "        for i in range(n):\n",
    "            row.append(round(rand(),3)) # 임의의 랜덤 넘버 생성 (소수점 3자리)\n",
    "        writer.writerow(row)"
   ]
  },
  {
   "cell_type": "code",
   "execution_count": 3,
   "id": "baf68853",
   "metadata": {},
   "outputs": [
    {
     "name": "stdout",
     "output_type": "stream",
     "text": [
      "0.615,0.003,0.828,0.247,0.883\r",
      "\r\n",
      "0.385,0.186,0.353,0.772,0.323\r",
      "\r\n",
      "0.509,0.877,0.533,0.165,0.613\r",
      "\r\n",
      "0.809,0.952,0.807,0.191,0.107\r",
      "\r\n",
      "0.994,0.316,0.032,0.306,0.011\r",
      "\r\n",
      "0.83,0.27,0.067,0.019,0.785\r",
      "\r\n",
      "0.942,0.754,0.222,0.719,0.102\r",
      "\r\n",
      "0.288,0.717,0.964,0.457,0.252\r",
      "\r\n",
      "0.639,0.927,0.013,0.287,0.419\r",
      "\r\n",
      "0.203,0.533,0.702,0.918,0.157\r",
      "\r\n"
     ]
    }
   ],
   "source": [
    "!cat test_1.csv # 맥에서\n",
    "# !type test_1.csv # 윈도우에서"
   ]
  },
  {
   "cell_type": "markdown",
   "id": "61385b7d",
   "metadata": {},
   "source": [
    "## 숫자 데이터 읽기"
   ]
  },
  {
   "cell_type": "code",
   "execution_count": 4,
   "id": "47627e3e",
   "metadata": {},
   "outputs": [
    {
     "data": {
      "text/plain": [
       "'0.615,0.003,0.828,0.247,0.883\\n0.385,0.186,0.353,0.772,0.323\\n0.509,0.877,0.533,0.165,0.613\\n0.809,0.952,0.807,0.191,0.107\\n0.994,0.316,0.032,0.306,0.011\\n0.83,0.27,0.067,0.019,0.785\\n0.942,0.754,0.222,0.719,0.102\\n0.288,0.717,0.964,0.457,0.252\\n0.639,0.927,0.013,0.287,0.419\\n0.203,0.533,0.702,0.918,0.157\\n'"
      ]
     },
     "execution_count": 4,
     "metadata": {},
     "output_type": "execute_result"
    }
   ],
   "source": [
    "# 텍스트 형태로 통으로 읽기\n",
    "with open('test_1.csv', 'r', encoding='UTF8') as f:\n",
    "    data = f.read()\n",
    "data"
   ]
  },
  {
   "cell_type": "code",
   "execution_count": 5,
   "id": "618f20f3",
   "metadata": {},
   "outputs": [
    {
     "name": "stdout",
     "output_type": "stream",
     "text": [
      "['0.615,0.003,0.828,0.247,0.883\\n', '0.385,0.186,0.353,0.772,0.323\\n', '0.509,0.877,0.533,0.165,0.613\\n', '0.809,0.952,0.807,0.191,0.107\\n', '0.994,0.316,0.032,0.306,0.011\\n', '0.83,0.27,0.067,0.019,0.785\\n', '0.942,0.754,0.222,0.719,0.102\\n', '0.288,0.717,0.964,0.457,0.252\\n', '0.639,0.927,0.013,0.287,0.419\\n', '0.203,0.533,0.702,0.918,0.157\\n']\n"
     ]
    }
   ],
   "source": [
    "# 리스트 형태로 행단위로 읽기\n",
    "with open('test_1.csv', 'r', encoding='UTF8') as f:\n",
    "    data = f.readlines()\n",
    "    print(data)"
   ]
  },
  {
   "cell_type": "code",
   "execution_count": 6,
   "id": "ffe13cce",
   "metadata": {},
   "outputs": [
    {
     "data": {
      "text/plain": [
       "str"
      ]
     },
     "execution_count": 6,
     "metadata": {},
     "output_type": "execute_result"
    }
   ],
   "source": [
    "type(data[0])"
   ]
  },
  {
   "cell_type": "code",
   "execution_count": 7,
   "id": "5e129211",
   "metadata": {},
   "outputs": [
    {
     "data": {
      "text/plain": [
       "'0.615,0.003,0.828,0.247,0.883\\n0.615,0.003,0.828,0.247,0.883\\n0.615,0.003,0.828,0.247,0.883\\n'"
      ]
     },
     "execution_count": 7,
     "metadata": {},
     "output_type": "execute_result"
    }
   ],
   "source": [
    "data[0]*3"
   ]
  },
  {
   "cell_type": "code",
   "execution_count": 18,
   "id": "a5c79574",
   "metadata": {},
   "outputs": [
    {
     "name": "stderr",
     "output_type": "stream",
     "text": [
      "<ipython-input-18-a6d6f86b5f6b>:7: DeprecationWarning: `np.float` is a deprecated alias for the builtin `float`. To silence this warning, use `float` by itself. Doing this will not modify any behavior and is safe. If you specifically wanted the numpy scalar type, use `np.float64` here.\n",
      "Deprecated in NumPy 1.20; for more details and guidance: https://numpy.org/devdocs/release/1.20.0-notes.html#deprecations\n",
      "  print(np.float(line)*3)\n"
     ]
    },
    {
     "ename": "ValueError",
     "evalue": "could not convert string to float: '0.615,0.003,0.828,0.247,0.883\\n'",
     "output_type": "error",
     "traceback": [
      "\u001b[0;31m---------------------------------------------------------------------------\u001b[0m",
      "\u001b[0;31mValueError\u001b[0m                                Traceback (most recent call last)",
      "\u001b[0;32m<ipython-input-18-a6d6f86b5f6b>\u001b[0m in \u001b[0;36m<module>\u001b[0;34m\u001b[0m\n\u001b[1;32m      5\u001b[0m         \u001b[0;32mif\u001b[0m \u001b[0;32mnot\u001b[0m \u001b[0mline\u001b[0m\u001b[0;34m:\u001b[0m\u001b[0;34m\u001b[0m\u001b[0;34m\u001b[0m\u001b[0m\n\u001b[1;32m      6\u001b[0m             \u001b[0;32mbreak\u001b[0m\u001b[0;34m\u001b[0m\u001b[0;34m\u001b[0m\u001b[0m\n\u001b[0;32m----> 7\u001b[0;31m         \u001b[0mprint\u001b[0m\u001b[0;34m(\u001b[0m\u001b[0mnp\u001b[0m\u001b[0;34m.\u001b[0m\u001b[0mfloat\u001b[0m\u001b[0;34m(\u001b[0m\u001b[0mline\u001b[0m\u001b[0;34m)\u001b[0m\u001b[0;34m*\u001b[0m\u001b[0;36m3\u001b[0m\u001b[0;34m)\u001b[0m\u001b[0;34m\u001b[0m\u001b[0;34m\u001b[0m\u001b[0m\n\u001b[0m",
      "\u001b[0;31mValueError\u001b[0m: could not convert string to float: '0.615,0.003,0.828,0.247,0.883\\n'"
     ]
    }
   ],
   "source": [
    "# 한 라인씩 읽어서 처리하기\n",
    "with open('test_1.csv', 'r', encoding='UTF8') as f:\n",
    "    while True:\n",
    "        line = f.readline()\n",
    "        if not line: \n",
    "            break\n",
    "        print(np.float(line)*3)"
   ]
  },
  {
   "cell_type": "code",
   "execution_count": 12,
   "id": "6791a387",
   "metadata": {},
   "outputs": [
    {
     "name": "stdout",
     "output_type": "stream",
     "text": [
      "0.55,0.172,0.292,0.055,0.086\n",
      "\n",
      "0.813,0.376,0.271,0.292,0.455\n",
      "\n",
      "0.477,0.643,0.857,1.0,0.98\n",
      "\n"
     ]
    }
   ],
   "source": [
    "# 일부만 읽어서 처리하기\n",
    "with open('test_1.csv', 'r', encoding='UTF8') as f:\n",
    "    for i in range(3):\n",
    "        line = f.readline()\n",
    "        print(line)"
   ]
  },
  {
   "cell_type": "code",
   "execution_count": 14,
   "id": "f7eb9797",
   "metadata": {},
   "outputs": [
    {
     "data": {
      "text/plain": [
       "array([[ 550.,  172.,  292.,   55.,   86.],\n",
       "       [ 813.,  376.,  271.,  292.,  455.],\n",
       "       [ 477.,  643.,  857., 1000.,  980.],\n",
       "       [ 144.,  804.,  181.,  610.,  815.]])"
      ]
     },
     "execution_count": 14,
     "metadata": {},
     "output_type": "execute_result"
    }
   ],
   "source": [
    "# 어레이로 읽기 (일부만 읽기)\n",
    "from numpy import genfromtxt\n",
    "array_data = genfromtxt('test_1.csv', delimiter=',', max_rows=4)\n",
    "array_data*1000"
   ]
  },
  {
   "cell_type": "code",
   "execution_count": 20,
   "id": "d0f7af73",
   "metadata": {},
   "outputs": [
    {
     "data": {
      "text/html": [
       "<div>\n",
       "<style scoped>\n",
       "    .dataframe tbody tr th:only-of-type {\n",
       "        vertical-align: middle;\n",
       "    }\n",
       "\n",
       "    .dataframe tbody tr th {\n",
       "        vertical-align: top;\n",
       "    }\n",
       "\n",
       "    .dataframe thead th {\n",
       "        text-align: right;\n",
       "    }\n",
       "</style>\n",
       "<table border=\"1\" class=\"dataframe\">\n",
       "  <thead>\n",
       "    <tr style=\"text-align: right;\">\n",
       "      <th></th>\n",
       "      <th>0.55</th>\n",
       "      <th>0.172</th>\n",
       "      <th>0.292</th>\n",
       "      <th>0.055</th>\n",
       "      <th>0.086</th>\n",
       "    </tr>\n",
       "  </thead>\n",
       "  <tbody>\n",
       "    <tr>\n",
       "      <th>0</th>\n",
       "      <td>0.813</td>\n",
       "      <td>0.376</td>\n",
       "      <td>0.271</td>\n",
       "      <td>0.292</td>\n",
       "      <td>0.455</td>\n",
       "    </tr>\n",
       "    <tr>\n",
       "      <th>1</th>\n",
       "      <td>0.477</td>\n",
       "      <td>0.643</td>\n",
       "      <td>0.857</td>\n",
       "      <td>1.000</td>\n",
       "      <td>0.980</td>\n",
       "    </tr>\n",
       "    <tr>\n",
       "      <th>2</th>\n",
       "      <td>0.144</td>\n",
       "      <td>0.804</td>\n",
       "      <td>0.181</td>\n",
       "      <td>0.610</td>\n",
       "      <td>0.815</td>\n",
       "    </tr>\n",
       "    <tr>\n",
       "      <th>3</th>\n",
       "      <td>0.965</td>\n",
       "      <td>0.334</td>\n",
       "      <td>0.194</td>\n",
       "      <td>0.680</td>\n",
       "      <td>0.035</td>\n",
       "    </tr>\n",
       "    <tr>\n",
       "      <th>4</th>\n",
       "      <td>0.546</td>\n",
       "      <td>0.143</td>\n",
       "      <td>0.627</td>\n",
       "      <td>0.112</td>\n",
       "      <td>0.786</td>\n",
       "    </tr>\n",
       "    <tr>\n",
       "      <th>5</th>\n",
       "      <td>0.850</td>\n",
       "      <td>0.151</td>\n",
       "      <td>0.404</td>\n",
       "      <td>0.840</td>\n",
       "      <td>0.756</td>\n",
       "    </tr>\n",
       "    <tr>\n",
       "      <th>6</th>\n",
       "      <td>0.777</td>\n",
       "      <td>0.551</td>\n",
       "      <td>0.409</td>\n",
       "      <td>0.461</td>\n",
       "      <td>0.680</td>\n",
       "    </tr>\n",
       "    <tr>\n",
       "      <th>7</th>\n",
       "      <td>0.017</td>\n",
       "      <td>0.047</td>\n",
       "      <td>0.762</td>\n",
       "      <td>0.440</td>\n",
       "      <td>0.642</td>\n",
       "    </tr>\n",
       "    <tr>\n",
       "      <th>8</th>\n",
       "      <td>0.671</td>\n",
       "      <td>0.413</td>\n",
       "      <td>0.868</td>\n",
       "      <td>0.658</td>\n",
       "      <td>0.047</td>\n",
       "    </tr>\n",
       "  </tbody>\n",
       "</table>\n",
       "</div>"
      ],
      "text/plain": [
       "    0.55  0.172  0.292  0.055  0.086\n",
       "0  0.813  0.376  0.271  0.292  0.455\n",
       "1  0.477  0.643  0.857  1.000  0.980\n",
       "2  0.144  0.804  0.181  0.610  0.815\n",
       "3  0.965  0.334  0.194  0.680  0.035\n",
       "4  0.546  0.143  0.627  0.112  0.786\n",
       "5  0.850  0.151  0.404  0.840  0.756\n",
       "6  0.777  0.551  0.409  0.461  0.680\n",
       "7  0.017  0.047  0.762  0.440  0.642\n",
       "8  0.671  0.413  0.868  0.658  0.047"
      ]
     },
     "execution_count": 20,
     "metadata": {},
     "output_type": "execute_result"
    }
   ],
   "source": [
    "import pandas as pd\n",
    "pd.read_csv('test_1.csv', header=0)"
   ]
  },
  {
   "cell_type": "code",
   "execution_count": 58,
   "id": "f1e78e9c",
   "metadata": {},
   "outputs": [
    {
     "data": {
      "text/plain": [
       "array([[0.006, 0.581],\n",
       "       [0.314, 0.724],\n",
       "       [0.471, 0.256],\n",
       "       [0.702, 0.261]])"
      ]
     },
     "execution_count": 58,
     "metadata": {},
     "output_type": "execute_result"
    }
   ],
   "source": [
    "# 일부 컬럼만 사용하기\n",
    "array_data[:,[0,2]]"
   ]
  },
  {
   "cell_type": "markdown",
   "id": "65ce454d",
   "metadata": {},
   "source": [
    "## 문자 데이터 쓰기"
   ]
  },
  {
   "cell_type": "code",
   "execution_count": 16,
   "id": "4879f121",
   "metadata": {
    "colab": {},
    "colab_type": "code",
    "id": "L05r6BjGYyFN"
   },
   "outputs": [],
   "source": [
    "# 쓰기 전용으로 파일 열기 (write)\n",
    "# 파일이 없으면 새로 만든다\n",
    "f = open(\"test.csv\", \"w\")\n",
    "f.write(\"a,b,c,d,e \\n\")\n",
    "f.write(\"1,2,3,4,5 \\n\")\n",
    "f.close()"
   ]
  },
  {
   "cell_type": "code",
   "execution_count": 17,
   "id": "05ce30a1",
   "metadata": {
    "colab": {},
    "colab_type": "code",
    "id": "kNjfBalRYyFS",
    "outputId": "4e278086-c5f9-4411-d614-610c787ba914"
   },
   "outputs": [
    {
     "name": "stdout",
     "output_type": "stream",
     "text": [
      "a,b,c,d,e \n",
      "1,2,3,4,5 \n",
      "\n"
     ]
    }
   ],
   "source": [
    "# 파일 내용 보기\n",
    "with open('test.csv') as f:\n",
    "    contents = f.read()\n",
    "    print(contents)"
   ]
  },
  {
   "cell_type": "code",
   "execution_count": 18,
   "id": "ee2a2369",
   "metadata": {},
   "outputs": [
    {
     "name": "stdout",
     "output_type": "stream",
     "text": [
      "a,b,c,d,e \n",
      "1,2,3,4,5 \n",
      "\n"
     ]
    }
   ],
   "source": [
    "# 파일 내용 일부 읽기\n",
    "with open('test.csv') as f:\n",
    "    contents = f.read(30)\n",
    "    print(contents)"
   ]
  },
  {
   "cell_type": "markdown",
   "id": "90b44d5b",
   "metadata": {},
   "source": [
    "### with 사용\n",
    "- 파일을 열 때 with를 사용하면, 해당 블록을 나갈 때 열린 파일을 닫는다\n",
    "- 즉, close 호출을 잊어버려도 안전하게 파일을 닫는다"
   ]
  },
  {
   "cell_type": "code",
   "execution_count": 19,
   "id": "a13fa036",
   "metadata": {
    "colab": {},
    "colab_type": "code",
    "id": "kNjfBalRYyFS",
    "outputId": "4e278086-c5f9-4411-d614-610c787ba914"
   },
   "outputs": [],
   "source": [
    "# 운영체제 명령으로 보기\n",
    "# !cat test.csv  # 리눅스나 맥에서\n",
    "# !type test.csv # 윈도우에서"
   ]
  },
  {
   "cell_type": "markdown",
   "id": "c83d1dfd",
   "metadata": {
    "colab_type": "text",
    "id": "hIhIolvRYyFi"
   },
   "source": [
    "### 파일 오픈 옵션\n",
    "'r'\t읽기 (디폴트)  \n",
    "'w'\t쓰기 (파일이 없었으면 새로 생성하며 이미 있었으면 덮어쓴다)  \n",
    "'a'\t맨 뒤에 추가 (appending), 파일이 없었으면 새로 생성  \n",
    "'t'\t텍스트 모드로 오픈 (디폴트)  \n",
    "'b'\t바이너리 모드로 오픈  \n",
    "'+'\t읽기 쓰기 모두 가능  "
   ]
  },
  {
   "cell_type": "code",
   "execution_count": 20,
   "id": "87a8d24d",
   "metadata": {
    "colab": {},
    "colab_type": "code",
    "id": "EI1JWjfPYyFX"
   },
   "outputs": [],
   "source": [
    "# 기존 파일에 추가하는 옵션으로 파일 열기 (append)\n",
    "with open(\"test.csv\", \"a\") as f:\n",
    "    f.write(\"6,7,8,9,10 \\n\")\n",
    "    f.write(\"11,12,13,14,15 \\n\")\n",
    "    f.write(\"16,17,18,19,20 \\n\")"
   ]
  },
  {
   "cell_type": "markdown",
   "id": "cddec5cb",
   "metadata": {},
   "source": [
    "### 한번에 모두 읽기, read()"
   ]
  },
  {
   "cell_type": "code",
   "execution_count": 21,
   "id": "cee388a1",
   "metadata": {
    "colab": {},
    "colab_type": "code",
    "id": "triCLfbsYyFb",
    "outputId": "fd9dfc59-8480-4bba-92bd-5f2e055f92ae"
   },
   "outputs": [
    {
     "name": "stdout",
     "output_type": "stream",
     "text": [
      "a,b,c,d,e \n",
      "1,2,3,4,5 \n",
      "6,7,8,9,10 \n",
      "11,12,13,14,15 \n",
      "16,17,18,19,20 \n",
      "\n"
     ]
    }
   ],
   "source": [
    "with open('test.csv') as f: \n",
    "    print(f.read())"
   ]
  },
  {
   "cell_type": "markdown",
   "id": "56efd37b",
   "metadata": {},
   "source": [
    "### 한줄씩 읽기, readline()"
   ]
  },
  {
   "cell_type": "code",
   "execution_count": 22,
   "id": "fd2cea66",
   "metadata": {},
   "outputs": [
    {
     "name": "stdout",
     "output_type": "stream",
     "text": [
      "a,b,c,d,e \n",
      "\n",
      "1,2,3,4,5 \n",
      "\n",
      "6,7,8,9,10 \n",
      "\n",
      "11,12,13,14,15 \n",
      "\n",
      "16,17,18,19,20 \n",
      "\n"
     ]
    }
   ],
   "source": [
    "with open(\"test.csv\",'r') as f:\n",
    "    while True:\n",
    "        line = f.readline()\n",
    "        if not line: \n",
    "            break\n",
    "        print(line)"
   ]
  },
  {
   "cell_type": "markdown",
   "id": "e7645537",
   "metadata": {},
   "source": [
    "### 한번에 모두 읽어 라인단위로 리스트 만들기,  readlines()"
   ]
  },
  {
   "cell_type": "code",
   "execution_count": 23,
   "id": "62e25043",
   "metadata": {},
   "outputs": [
    {
     "name": "stdout",
     "output_type": "stream",
     "text": [
      "['a,b,c,d,e \\n', '1,2,3,4,5 \\n', '6,7,8,9,10 \\n', '11,12,13,14,15 \\n', '16,17,18,19,20 \\n']\n"
     ]
    }
   ],
   "source": [
    "with open(\"test.csv\",'r') as f:\n",
    "    lines = f.readlines()\n",
    "    print(lines)"
   ]
  },
  {
   "cell_type": "markdown",
   "id": "2a67d4ed",
   "metadata": {},
   "source": [
    "## 어레이로 읽기\n",
    "- 문자열을 숫자로 취급한다"
   ]
  },
  {
   "cell_type": "code",
   "execution_count": 28,
   "id": "143199b1",
   "metadata": {},
   "outputs": [
    {
     "data": {
      "text/plain": [
       "array([[  nan,   nan,   nan,   nan,   nan],\n",
       "       [ 100.,  200.,  300.,  400.,  500.],\n",
       "       [ 600.,  700.,  800.,  900., 1000.],\n",
       "       [1100., 1200., 1300., 1400., 1500.]])"
      ]
     },
     "execution_count": 28,
     "metadata": {},
     "output_type": "execute_result"
    }
   ],
   "source": [
    "array_data = genfromtxt('test.csv', delimiter=',', max_rows=4)\n",
    "array_data*100"
   ]
  },
  {
   "cell_type": "markdown",
   "id": "ac67b13a",
   "metadata": {},
   "source": [
    "## csv 파일을 데이터프레임으로 바로 읽기"
   ]
  },
  {
   "cell_type": "code",
   "execution_count": 24,
   "id": "8e8363a0",
   "metadata": {
    "colab": {},
    "colab_type": "code",
    "id": "v0qkwUKOYyFs",
    "outputId": "1add2457-193d-4836-a9f5-2a76557092ae"
   },
   "outputs": [
    {
     "data": {
      "text/html": [
       "<div>\n",
       "<style scoped>\n",
       "    .dataframe tbody tr th:only-of-type {\n",
       "        vertical-align: middle;\n",
       "    }\n",
       "\n",
       "    .dataframe tbody tr th {\n",
       "        vertical-align: top;\n",
       "    }\n",
       "\n",
       "    .dataframe thead th {\n",
       "        text-align: right;\n",
       "    }\n",
       "</style>\n",
       "<table border=\"1\" class=\"dataframe\">\n",
       "  <thead>\n",
       "    <tr style=\"text-align: right;\">\n",
       "      <th></th>\n",
       "      <th>a</th>\n",
       "      <th>b</th>\n",
       "      <th>c</th>\n",
       "      <th>d</th>\n",
       "      <th>e</th>\n",
       "    </tr>\n",
       "  </thead>\n",
       "  <tbody>\n",
       "    <tr>\n",
       "      <th>0</th>\n",
       "      <td>1</td>\n",
       "      <td>2</td>\n",
       "      <td>3</td>\n",
       "      <td>4</td>\n",
       "      <td>5</td>\n",
       "    </tr>\n",
       "    <tr>\n",
       "      <th>1</th>\n",
       "      <td>6</td>\n",
       "      <td>7</td>\n",
       "      <td>8</td>\n",
       "      <td>9</td>\n",
       "      <td>10</td>\n",
       "    </tr>\n",
       "    <tr>\n",
       "      <th>2</th>\n",
       "      <td>11</td>\n",
       "      <td>12</td>\n",
       "      <td>13</td>\n",
       "      <td>14</td>\n",
       "      <td>15</td>\n",
       "    </tr>\n",
       "    <tr>\n",
       "      <th>3</th>\n",
       "      <td>16</td>\n",
       "      <td>17</td>\n",
       "      <td>18</td>\n",
       "      <td>19</td>\n",
       "      <td>20</td>\n",
       "    </tr>\n",
       "  </tbody>\n",
       "</table>\n",
       "</div>"
      ],
      "text/plain": [
       "    a   b   c   d  e \n",
       "0   1   2   3   4   5\n",
       "1   6   7   8   9  10\n",
       "2  11  12  13  14  15\n",
       "3  16  17  18  19  20"
      ]
     },
     "execution_count": 24,
     "metadata": {},
     "output_type": "execute_result"
    }
   ],
   "source": [
    "import pandas as pd \n",
    "\n",
    "df = pd.read_csv('test.csv')  \n",
    "df\n",
    "# 디폴트로 첫 행을 컬럼명으로 사용한다"
   ]
  },
  {
   "cell_type": "markdown",
   "id": "4e82a6bd",
   "metadata": {},
   "source": [
    "### 첫 행도 데이터로 취급하기\n",
    "- 헤더(컬럼명 등)가 없는 경우, 즉 데이터만 들어있는 경우\n",
    "- header=None 사용\n",
    "- 여러 행의 헤더가 있는 경우는 header= 2 등으로 행을 제거한다"
   ]
  },
  {
   "cell_type": "code",
   "execution_count": 25,
   "id": "c427ce04",
   "metadata": {
    "colab": {},
    "colab_type": "code",
    "id": "R-Ch0w36YyF0",
    "outputId": "b55157cd-4b6d-4709-e537-f163bbe77817"
   },
   "outputs": [
    {
     "data": {
      "text/html": [
       "<div>\n",
       "<style scoped>\n",
       "    .dataframe tbody tr th:only-of-type {\n",
       "        vertical-align: middle;\n",
       "    }\n",
       "\n",
       "    .dataframe tbody tr th {\n",
       "        vertical-align: top;\n",
       "    }\n",
       "\n",
       "    .dataframe thead th {\n",
       "        text-align: right;\n",
       "    }\n",
       "</style>\n",
       "<table border=\"1\" class=\"dataframe\">\n",
       "  <thead>\n",
       "    <tr style=\"text-align: right;\">\n",
       "      <th></th>\n",
       "      <th>0</th>\n",
       "      <th>1</th>\n",
       "      <th>2</th>\n",
       "      <th>3</th>\n",
       "      <th>4</th>\n",
       "    </tr>\n",
       "  </thead>\n",
       "  <tbody>\n",
       "    <tr>\n",
       "      <th>0</th>\n",
       "      <td>a</td>\n",
       "      <td>b</td>\n",
       "      <td>c</td>\n",
       "      <td>d</td>\n",
       "      <td>e</td>\n",
       "    </tr>\n",
       "    <tr>\n",
       "      <th>1</th>\n",
       "      <td>1</td>\n",
       "      <td>2</td>\n",
       "      <td>3</td>\n",
       "      <td>4</td>\n",
       "      <td>5</td>\n",
       "    </tr>\n",
       "    <tr>\n",
       "      <th>2</th>\n",
       "      <td>6</td>\n",
       "      <td>7</td>\n",
       "      <td>8</td>\n",
       "      <td>9</td>\n",
       "      <td>10</td>\n",
       "    </tr>\n",
       "    <tr>\n",
       "      <th>3</th>\n",
       "      <td>11</td>\n",
       "      <td>12</td>\n",
       "      <td>13</td>\n",
       "      <td>14</td>\n",
       "      <td>15</td>\n",
       "    </tr>\n",
       "    <tr>\n",
       "      <th>4</th>\n",
       "      <td>16</td>\n",
       "      <td>17</td>\n",
       "      <td>18</td>\n",
       "      <td>19</td>\n",
       "      <td>20</td>\n",
       "    </tr>\n",
       "  </tbody>\n",
       "</table>\n",
       "</div>"
      ],
      "text/plain": [
       "    0   1   2   3    4\n",
       "0   a   b   c   d   e \n",
       "1   1   2   3   4   5 \n",
       "2   6   7   8   9  10 \n",
       "3  11  12  13  14  15 \n",
       "4  16  17  18  19  20 "
      ]
     },
     "execution_count": 25,
     "metadata": {},
     "output_type": "execute_result"
    }
   ],
   "source": [
    "pd.read_csv('test.csv', header=None) "
   ]
  },
  {
   "cell_type": "code",
   "execution_count": 26,
   "id": "a41a6587",
   "metadata": {
    "scrolled": true
   },
   "outputs": [
    {
     "data": {
      "text/html": [
       "<div>\n",
       "<style scoped>\n",
       "    .dataframe tbody tr th:only-of-type {\n",
       "        vertical-align: middle;\n",
       "    }\n",
       "\n",
       "    .dataframe tbody tr th {\n",
       "        vertical-align: top;\n",
       "    }\n",
       "\n",
       "    .dataframe thead th {\n",
       "        text-align: right;\n",
       "    }\n",
       "</style>\n",
       "<table border=\"1\" class=\"dataframe\">\n",
       "  <thead>\n",
       "    <tr style=\"text-align: right;\">\n",
       "      <th></th>\n",
       "      <th>6</th>\n",
       "      <th>7</th>\n",
       "      <th>8</th>\n",
       "      <th>9</th>\n",
       "      <th>10</th>\n",
       "    </tr>\n",
       "  </thead>\n",
       "  <tbody>\n",
       "    <tr>\n",
       "      <th>0</th>\n",
       "      <td>11</td>\n",
       "      <td>12</td>\n",
       "      <td>13</td>\n",
       "      <td>14</td>\n",
       "      <td>15</td>\n",
       "    </tr>\n",
       "    <tr>\n",
       "      <th>1</th>\n",
       "      <td>16</td>\n",
       "      <td>17</td>\n",
       "      <td>18</td>\n",
       "      <td>19</td>\n",
       "      <td>20</td>\n",
       "    </tr>\n",
       "  </tbody>\n",
       "</table>\n",
       "</div>"
      ],
      "text/plain": [
       "    6   7   8   9  10 \n",
       "0  11  12  13  14   15\n",
       "1  16  17  18  19   20"
      ]
     },
     "execution_count": 26,
     "metadata": {},
     "output_type": "execute_result"
    }
   ],
   "source": [
    "pd.read_csv('test.csv', header=2) # 상위 세개의 행 제거"
   ]
  },
  {
   "cell_type": "code",
   "execution_count": 27,
   "id": "71d09d45",
   "metadata": {
    "colab": {},
    "colab_type": "code",
    "id": "qH7oCCzlYyF4",
    "outputId": "c327fcd7-1a7c-499c-d205-493569d7b051"
   },
   "outputs": [
    {
     "data": {
      "text/html": [
       "<div>\n",
       "<style scoped>\n",
       "    .dataframe tbody tr th:only-of-type {\n",
       "        vertical-align: middle;\n",
       "    }\n",
       "\n",
       "    .dataframe tbody tr th {\n",
       "        vertical-align: top;\n",
       "    }\n",
       "\n",
       "    .dataframe thead th {\n",
       "        text-align: right;\n",
       "    }\n",
       "</style>\n",
       "<table border=\"1\" class=\"dataframe\">\n",
       "  <thead>\n",
       "    <tr style=\"text-align: right;\">\n",
       "      <th></th>\n",
       "      <th>A</th>\n",
       "      <th>B</th>\n",
       "      <th>C</th>\n",
       "      <th>D</th>\n",
       "      <th>E</th>\n",
       "    </tr>\n",
       "  </thead>\n",
       "  <tbody>\n",
       "    <tr>\n",
       "      <th>0</th>\n",
       "      <td>a</td>\n",
       "      <td>b</td>\n",
       "      <td>c</td>\n",
       "      <td>d</td>\n",
       "      <td>e</td>\n",
       "    </tr>\n",
       "    <tr>\n",
       "      <th>1</th>\n",
       "      <td>1</td>\n",
       "      <td>2</td>\n",
       "      <td>3</td>\n",
       "      <td>4</td>\n",
       "      <td>5</td>\n",
       "    </tr>\n",
       "    <tr>\n",
       "      <th>2</th>\n",
       "      <td>6</td>\n",
       "      <td>7</td>\n",
       "      <td>8</td>\n",
       "      <td>9</td>\n",
       "      <td>10</td>\n",
       "    </tr>\n",
       "    <tr>\n",
       "      <th>3</th>\n",
       "      <td>11</td>\n",
       "      <td>12</td>\n",
       "      <td>13</td>\n",
       "      <td>14</td>\n",
       "      <td>15</td>\n",
       "    </tr>\n",
       "    <tr>\n",
       "      <th>4</th>\n",
       "      <td>16</td>\n",
       "      <td>17</td>\n",
       "      <td>18</td>\n",
       "      <td>19</td>\n",
       "      <td>20</td>\n",
       "    </tr>\n",
       "  </tbody>\n",
       "</table>\n",
       "</div>"
      ],
      "text/plain": [
       "    A   B   C   D    E\n",
       "0   a   b   c   d   e \n",
       "1   1   2   3   4   5 \n",
       "2   6   7   8   9  10 \n",
       "3  11  12  13  14  15 \n",
       "4  16  17  18  19  20 "
      ]
     },
     "execution_count": 27,
     "metadata": {},
     "output_type": "execute_result"
    }
   ],
   "source": [
    "# 컬럼명 지정하기\n",
    "pd.read_csv('test.csv', names=['A','B','C','D','E'])"
   ]
  },
  {
   "cell_type": "code",
   "execution_count": 55,
   "id": "a4c2b984",
   "metadata": {
    "colab": {},
    "colab_type": "code",
    "id": "W1V223-HYyF_",
    "outputId": "4f039e8e-23ee-4019-ff56-a81e5e0dc61f"
   },
   "outputs": [
    {
     "data": {
      "text/html": [
       "<div>\n",
       "<style scoped>\n",
       "    .dataframe tbody tr th:only-of-type {\n",
       "        vertical-align: middle;\n",
       "    }\n",
       "\n",
       "    .dataframe tbody tr th {\n",
       "        vertical-align: top;\n",
       "    }\n",
       "\n",
       "    .dataframe thead th {\n",
       "        text-align: right;\n",
       "    }\n",
       "</style>\n",
       "<table border=\"1\" class=\"dataframe\">\n",
       "  <thead>\n",
       "    <tr style=\"text-align: right;\">\n",
       "      <th></th>\n",
       "      <th>a</th>\n",
       "      <th>b</th>\n",
       "      <th>c</th>\n",
       "      <th>d</th>\n",
       "      <th>e</th>\n",
       "    </tr>\n",
       "  </thead>\n",
       "  <tbody>\n",
       "    <tr>\n",
       "      <th>0</th>\n",
       "      <td>1</td>\n",
       "      <td>2</td>\n",
       "      <td>3</td>\n",
       "      <td>4</td>\n",
       "      <td>5</td>\n",
       "    </tr>\n",
       "    <tr>\n",
       "      <th>1</th>\n",
       "      <td>6</td>\n",
       "      <td>7</td>\n",
       "      <td>8</td>\n",
       "      <td>9</td>\n",
       "      <td>10</td>\n",
       "    </tr>\n",
       "  </tbody>\n",
       "</table>\n",
       "</div>"
      ],
      "text/plain": [
       "   a  b  c  d  e \n",
       "0  1  2  3  4   5\n",
       "1  6  7  8  9  10"
      ]
     },
     "execution_count": 55,
     "metadata": {},
     "output_type": "execute_result"
    }
   ],
   "source": [
    "# 일부 행만 읽기 nrows 사용\n",
    "df2 = pd.read_csv('test.csv', nrows=2)\n",
    "df2"
   ]
  },
  {
   "cell_type": "code",
   "execution_count": 57,
   "id": "c3f2d966",
   "metadata": {},
   "outputs": [
    {
     "data": {
      "text/plain": [
       "['a,b,c,d,e \\n', '1,2,3,4,5 \\n', '6,7,8,9,10 \\n']"
      ]
     },
     "execution_count": 57,
     "metadata": {},
     "output_type": "execute_result"
    }
   ],
   "source": [
    "# 일부 행만 리스트로 읽기(대용량 데이터의 경우), readline() 사용\n",
    "number_of_lines = 3\n",
    "\n",
    "out = []\n",
    "with open('test.csv') as f: \n",
    "    for i in range(number_of_lines):\n",
    "        line = f.readline()\n",
    "        out.append(line)\n",
    "out"
   ]
  },
  {
   "cell_type": "markdown",
   "id": "933fbf6b",
   "metadata": {},
   "source": [
    "## csv 파일로 출력\n",
    "- 판다스의 to_csv() 사용"
   ]
  },
  {
   "cell_type": "code",
   "execution_count": 13,
   "id": "0e13ecb0",
   "metadata": {
    "colab": {},
    "colab_type": "code",
    "id": "Blcj2UY7YyGG"
   },
   "outputs": [],
   "source": [
    "df.to_csv('output.csv')"
   ]
  },
  {
   "cell_type": "code",
   "execution_count": 14,
   "id": "01ec8db7",
   "metadata": {
    "colab": {},
    "colab_type": "code",
    "id": "qoid5f5rYyGK",
    "outputId": "e2777d9f-3a82-4410-a4ce-0086daa4db61"
   },
   "outputs": [
    {
     "name": "stdout",
     "output_type": "stream",
     "text": [
      ",a,b,c,d,e \n",
      "0,1,2,3,4,5\n",
      "1,6,7,8,9,10\n",
      "2,11,12,13,14,15\n",
      "3,16,17,18,19,20\n",
      "\n"
     ]
    }
   ],
   "source": [
    "with open('output.csv') as f: print(f.read())"
   ]
  },
  {
   "cell_type": "markdown",
   "id": "165582eb",
   "metadata": {},
   "source": [
    "- 데이터 프레임의 인덱스도 포함되어 저장된다\n",
    "- 인덱스를 제거하려면, index=False 를 지정한다"
   ]
  },
  {
   "cell_type": "code",
   "execution_count": 15,
   "id": "fd4b01e5",
   "metadata": {
    "scrolled": true
   },
   "outputs": [
    {
     "name": "stdout",
     "output_type": "stream",
     "text": [
      "a,b,c,d,e \n",
      "1,2,3,4,5\n",
      "6,7,8,9,10\n",
      "11,12,13,14,15\n",
      "16,17,18,19,20\n",
      "\n"
     ]
    }
   ],
   "source": [
    "df.to_csv('output.csv', index=False)\n",
    "with open('output.csv') as f: print(f.read())"
   ]
  },
  {
   "cell_type": "code",
   "execution_count": 16,
   "id": "b4351294",
   "metadata": {},
   "outputs": [
    {
     "data": {
      "text/html": [
       "<div>\n",
       "<style scoped>\n",
       "    .dataframe tbody tr th:only-of-type {\n",
       "        vertical-align: middle;\n",
       "    }\n",
       "\n",
       "    .dataframe tbody tr th {\n",
       "        vertical-align: top;\n",
       "    }\n",
       "\n",
       "    .dataframe thead th {\n",
       "        text-align: right;\n",
       "    }\n",
       "</style>\n",
       "<table border=\"1\" class=\"dataframe\">\n",
       "  <thead>\n",
       "    <tr style=\"text-align: right;\">\n",
       "      <th></th>\n",
       "      <th>a</th>\n",
       "      <th>b</th>\n",
       "      <th>c</th>\n",
       "      <th>d</th>\n",
       "      <th>e</th>\n",
       "    </tr>\n",
       "  </thead>\n",
       "  <tbody>\n",
       "    <tr>\n",
       "      <th>0</th>\n",
       "      <td>1</td>\n",
       "      <td>2</td>\n",
       "      <td>3</td>\n",
       "      <td>4</td>\n",
       "      <td>5</td>\n",
       "    </tr>\n",
       "    <tr>\n",
       "      <th>1</th>\n",
       "      <td>6</td>\n",
       "      <td>7</td>\n",
       "      <td>8</td>\n",
       "      <td>9</td>\n",
       "      <td>10</td>\n",
       "    </tr>\n",
       "    <tr>\n",
       "      <th>2</th>\n",
       "      <td>11</td>\n",
       "      <td>12</td>\n",
       "      <td>13</td>\n",
       "      <td>14</td>\n",
       "      <td>15</td>\n",
       "    </tr>\n",
       "    <tr>\n",
       "      <th>3</th>\n",
       "      <td>16</td>\n",
       "      <td>17</td>\n",
       "      <td>18</td>\n",
       "      <td>19</td>\n",
       "      <td>20</td>\n",
       "    </tr>\n",
       "  </tbody>\n",
       "</table>\n",
       "</div>"
      ],
      "text/plain": [
       "    a   b   c   d  e \n",
       "0   1   2   3   4   5\n",
       "1   6   7   8   9  10\n",
       "2  11  12  13  14  15\n",
       "3  16  17  18  19  20"
      ]
     },
     "execution_count": 16,
     "metadata": {},
     "output_type": "execute_result"
    }
   ],
   "source": [
    "# csv 파일 읽기\n",
    "# 앞의 pandas 예제에서 cities.csv를 만들어 저장한 경우\n",
    "# df2 = pd.read_csv('cities.csv')  \n",
    "df2 = pd.read_csv('output.csv')  \n",
    "df2"
   ]
  },
  {
   "cell_type": "markdown",
   "id": "da57ce56",
   "metadata": {},
   "source": [
    "### 액셀 파일 읽기"
   ]
  },
  {
   "cell_type": "code",
   "execution_count": 17,
   "id": "08272333",
   "metadata": {
    "scrolled": true
   },
   "outputs": [],
   "source": [
    "# 앞의 pandas 예제에서 cities.xlsx 를 만들어 저장한 경우\n",
    "# df2 = pd.read_excel('cities.xlsx')  \n",
    "# df2"
   ]
  },
  {
   "cell_type": "markdown",
   "id": "2876daa7",
   "metadata": {},
   "source": [
    "### 액셀 한글 인코딩\n",
    "- 문자의 인코딩은 기본적으로 utf-8 을 사용한다\n",
    "- 그러나 한글의 경우 다른 인코딩으로 저장되는 경우가 있다\n",
    " - MS 액셀에서 csv로 저장할 때 한글이 cpc949로 인코딩된다. 이때는 아래 옵션이 필요하다\n",
    " - encoding = 'cpc949'\n",
    " - encoding = 'EUK-KR'을 선택해야 하는 경우도 있다"
   ]
  },
  {
   "cell_type": "markdown",
   "id": "c83b64f1",
   "metadata": {},
   "source": [
    "## zip 파일 만들기"
   ]
  },
  {
   "cell_type": "code",
   "execution_count": 18,
   "id": "2417f76f",
   "metadata": {},
   "outputs": [],
   "source": [
    "import zipfile\n",
    "with zipfile.ZipFile('output.zip', 'w') as myzip:\n",
    "    myzip.write('output.csv')"
   ]
  },
  {
   "cell_type": "markdown",
   "id": "0bab5a33",
   "metadata": {},
   "source": [
    "### zip 파일 풀기"
   ]
  },
  {
   "cell_type": "code",
   "execution_count": 19,
   "id": "70303b6e",
   "metadata": {},
   "outputs": [
    {
     "name": "stdout",
     "output_type": "stream",
     "text": [
      "['output.csv']\n"
     ]
    }
   ],
   "source": [
    "with zipfile.ZipFile(\"output.zip\", 'r') as zf: \n",
    "    print(zf.namelist()) # 포한된 파일명 보기\n",
    "    zf.extractall() # 하위 폴더 지정 가능"
   ]
  },
  {
   "cell_type": "markdown",
   "id": "68034c94",
   "metadata": {},
   "source": [
    "# 폴더 작업"
   ]
  },
  {
   "cell_type": "markdown",
   "id": "b00287b6",
   "metadata": {},
   "source": [
    "## 현재 폴더 위치 보기"
   ]
  },
  {
   "cell_type": "code",
   "execution_count": 21,
   "id": "46cecf30",
   "metadata": {
    "colab": {},
    "colab_type": "code",
    "id": "0Ew5j9rRYyGP",
    "outputId": "f51b2dba-fb1f-4e2d-c524-cff8c969d783"
   },
   "outputs": [
    {
     "data": {
      "text/plain": [
       "'/Users/hwa-kim/Dropbox/lab/book12'"
      ]
     },
     "execution_count": 21,
     "metadata": {},
     "output_type": "execute_result"
    }
   ],
   "source": [
    "import os\n",
    "cur_dir = os.getcwd()\n",
    "cur_dir"
   ]
  },
  {
   "cell_type": "markdown",
   "id": "a8535d48",
   "metadata": {},
   "source": [
    "## 폴더의 파일 목록 얻기\n",
    "- glob() 사용\n",
    "- listdir() 사용"
   ]
  },
  {
   "cell_type": "markdown",
   "id": "d469c296",
   "metadata": {},
   "source": [
    "### glob()를 사용"
   ]
  },
  {
   "cell_type": "code",
   "execution_count": 22,
   "id": "455c954d",
   "metadata": {},
   "outputs": [
    {
     "data": {
      "text/plain": [
       "['f_01_Python.ipynb',\n",
       " 'f_02_Pandas.ipynb',\n",
       " 'f_03_Numpy.ipynb',\n",
       " 'f_04_File.ipynb',\n",
       " 'f_05_Function.ipynb',\n",
       " 'f_06_Preprocessing.ipynb',\n",
       " 'f_07_Preprocessing_Example.ipynb',\n",
       " 'f_08_Table.ipynb',\n",
       " 'f_09_Groupby.ipynb',\n",
       " 'f_10_LinearPrediction.ipynb',\n",
       " 'f_11_MachineLearning.ipynb',\n",
       " 'f_12_GD.ipynb',\n",
       " 'f_13_Classification.ipynb',\n",
       " 'f_14_Ranking_PRCurve.ipynb',\n",
       " 'f_15_LogisticRegression.ipynb',\n",
       " 'f_16_Ranking_proba.ipynb',\n",
       " 'f_17_DecisionTree.ipynb',\n",
       " 'f_18_SVM.ipynb',\n",
       " 'f_19_ModelComparison.ipynb',\n",
       " 'f_20_Ensemble.ipynb',\n",
       " 'f_21_StatisticsBasic.ipynb',\n",
       " 'f_22_FeatureEngineering.ipynb',\n",
       " 'f_23_Clustering.ipynb',\n",
       " 'f_24_ClusteringExample.ipynb',\n",
       " 'f_25_MultiOutput.ipynb',\n",
       " 'f_26_TimeseriesOutput.ipynb',\n",
       " 'f_27_TimeseriesForecasting.ipynb',\n",
       " 'f_28_Prophet.ipynb',\n",
       " 'f_29_ProphetAdvanced.ipynb',\n",
       " 'f_30_AddFeatures.ipynb',\n",
       " 'f_31_XY_Model.ipynb',\n",
       " 'f_32_PM.ipynb',\n",
       " 'f_33_MLP_CNN.ipynb',\n",
       " 'f_34_PatternRecognition.ipynb',\n",
       " 'f_35_Image_Recognition.ipynb',\n",
       " 'f_36_TransferLearning.ipynb',\n",
       " 'f_37_LSTM.ipynb',\n",
       " 'f_38_LSTM_TimeSeries.ipynb',\n",
       " 'f_39_YOLO.ipynb',\n",
       " 'f_40_YOLO_FineTuning.ipynb',\n",
       " 'f_41_opencv_face.ipynb',\n",
       " 'f_42_opencv_digit.ipynb',\n",
       " 'f_43_object_detect.ipynb',\n",
       " 'f_44_LP.ipynb',\n",
       " 'f_45_IntegerLP.ipynb',\n",
       " 'f_46_MatrixLP.ipynb',\n",
       " 'f_47_Constraint.ipynb',\n",
       " 'f_48_Assignment.ipynb',\n",
       " 'f_49_Routing.ipynb',\n",
       " 'f_50_LP_Example.ipynb',\n",
       " 'f_51_Dash.ipynb']"
      ]
     },
     "execution_count": 22,
     "metadata": {},
     "output_type": "execute_result"
    }
   ],
   "source": [
    "# 파일 목록 얻기\n",
    "from glob import glob\n",
    "sorted(glob('f_*'))"
   ]
  },
  {
   "cell_type": "markdown",
   "id": "986d0fe4",
   "metadata": {},
   "source": [
    "### listdir()를 사용"
   ]
  },
  {
   "cell_type": "code",
   "execution_count": 23,
   "id": "6cdab00e",
   "metadata": {
    "colab": {},
    "colab_type": "code",
    "id": "UgWWmlW6YyGV",
    "outputId": "ea3dfd26-3551-4065-da68-a60e7467175e"
   },
   "outputs": [
    {
     "data": {
      "text/plain": [
       "['.DS_Store',\n",
       " '.ipynb_checkpoints',\n",
       " '.tmp.drivedownload',\n",
       " 'DX_Motor.ipynb',\n",
       " 'LGadd2',\n",
       " 'LGadd2.zip',\n",
       " 'Merged_excel.xlsx',\n",
       " 'NGdata1.zip',\n",
       " 'PM_train_pre.csv',\n",
       " 'SET_angle_V2.ipynb',\n",
       " 'Untitled.ipynb',\n",
       " 'Untitled1.ipynb',\n",
       " '__MACOSX',\n",
       " 'a_01_Python_Intro.ipynb',\n",
       " 'a_02_pandas.ipynb',\n",
       " 'a_03_numpy.ipynb',\n",
       " 'chromedriver',\n",
       " 'competitive-data-science-predict-future-sales',\n",
       " 'customer.csv',\n",
       " 'datasalon-master',\n",
       " 'digit2.png',\n",
       " 'digit9-2.png',\n",
       " 'digit9.png',\n",
       " 'digits-lin.pkl',\n",
       " 'digits.pkl',\n",
       " 'down.zip',\n",
       " 'down2.zip',\n",
       " 'energy.csv',\n",
       " 'face-detect.png',\n",
       " 'face-pickup.png',\n",
       " 'families.jpg',\n",
       " 'g_45_yolo.ipynb',\n",
       " 'g_46_Yolo5_ing.ipynb',\n",
       " 'g_54_토픽모델링.ipynb',\n",
       " 'g_60_0_선형프로그래밍.ipynb',\n",
       " 'g_60_1_정수형선형프로그래밍.ipynb',\n",
       " 'g_60_2_매트릭스형선형최적화.ipynb',\n",
       " 'g_60_3_제약프로그래밍.ipynb',\n",
       " 'g_60_4_배정.ipynb',\n",
       " 'g_60_5_라우팅기초.ipynb',\n",
       " 'g_60_6_비클라우팅.ipynb',\n",
       " 'g_60_7_라우팅고급.ipynb',\n",
       " 'g_60_8_OR_응용.ipynb',\n",
       " 'g_61_1_물류최적화개념.ipynb',\n",
       " 'g_61_2_물류최적화.ipynb',\n",
       " 'g_63_LP기초.ipynb',\n",
       " 'g_71_1_Molecular_Visualization_using_RDkit.ipynb',\n",
       " 'g_71_2_DeepChem_라이브러리를_활용한Solubility_Modeling.ipynb',\n",
       " 'g_71_3_Pytorch를_사용한_QSAR_모델_구축Prediction.ipynb',\n",
       " 'g_71_4_Pytorch를_사용한_QSAR_모델_구축Classification.ipynb',\n",
       " 'g_71_5_GraphDTA_ipynb_.ipynb',\n",
       " 'g_81_스트링_객체변환.ipynb',\n",
       " 'g_84_flask.ipynb',\n",
       " 'gg_74_시계열기초LSTM.ipynb 복사본',\n",
       " 'gg_79_전력사용시계열분석.ipynb 복사본',\n",
       " 'h_00_쥬피터노트북.ipynb',\n",
       " 'h_01_파이썬기초.ipynb',\n",
       " 'h_02_pandas.ipynb',\n",
       " 'h_03_numpy.ipynb',\n",
       " 'h_04_1_파일다루기연습.ipynb',\n",
       " 'h_04_파일다루기.ipynb',\n",
       " 'h_05_함수사용.ipynb',\n",
       " 'h_06_데이터전처리.ipynb',\n",
       " 'h_07_데이터전처리실습.ipynb',\n",
       " 'h_08_탐색적분석.ipynb',\n",
       " 'h_09_테이블다루기.ipynb',\n",
       " 'h_10_시계열데이터처리.ipynb',\n",
       " 'h_11_머신러닝개요.ipynb',\n",
       " 'h_12_회귀모델.ipynb',\n",
       " 'h_12_회귀모델_210711.ipynb',\n",
       " 'h_13_분류모델.ipynb',\n",
       " 'h_14_분류순위평가.ipynb',\n",
       " 'h_15_통계분석과머신러닝.ipynb',\n",
       " 'h_16_로지스틱회귀.ipynb',\n",
       " 'h_17_머신러닝모델비교_210702.ipynb',\n",
       " 'h_18_분류예제_포도주.ipynb',\n",
       " 'h_19_0_다중출력회귀_210712.ipynb',\n",
       " 'h_19_1_다중출력회귀시계열_210712.ipynb',\n",
       " 'h_20_앙상블알고리즘_0624.ipynb',\n",
       " 'h_21_XGBoost_LightGBM_0704.ipynb',\n",
       " 'h_23_차원축소_특성공학.ipynb',\n",
       " 'h_24_Imbalance_CreditCard.ipynb',\n",
       " 'h_25_클러스터링기초.ipynb',\n",
       " 'h_26_클러스터링_최적_k.ipynb',\n",
       " 'h_27_0_시계열분석기초.ipynb',\n",
       " 'h_27_1_시계열 특성추가_210701.ipynb',\n",
       " 'h_28_prophet.ipynb',\n",
       " 'h_31_자전거대여수예측_0701.ipynb',\n",
       " 'h_32_Prophet_응용.ipynb',\n",
       " 'h_33_PM_210717.ipynb',\n",
       " 'h_34_1_MLP_CNN_210418.ipynb',\n",
       " 'h_34_LSTM_기본개념.ipynb',\n",
       " 'h_34_시계열_rnn_전력사용예측.ipynb',\n",
       " 'h_35_시퀀스패턴분류_210703_.ipynb',\n",
       " 'h_36_1_디지털필터출력.ipynb',\n",
       " 'h_37_이미지인식_210418_ipynb.ipynb',\n",
       " 'h_38_전이학습.ipynb',\n",
       " 'h_39_opencv_face-Copy1.ipynb',\n",
       " 'h_39_opencv_face.ipynb',\n",
       " 'h_40_opencv_digit.ipynb',\n",
       " 'h_41_object_detect.ipynb',\n",
       " 'h_42_뉴스기사분석.ipynb',\n",
       " 'h_43_스팸분류.ipynb',\n",
       " 'h_44_네이버영화평점.ipynb',\n",
       " 'h_45_형태소분석.ipynb',\n",
       " 'h_46_단어벡터.ipynb',\n",
       " 'h_47_IMDB_Embedding.ipynb',\n",
       " 'h_48_언어모델링.ipynb',\n",
       " 'h_80_웹크롤링.ipynb',\n",
       " 'h_81_YOLOv5_Marking.pptx',\n",
       " 'h_81_YOLOv5_Tutorial.ipynb',\n",
       " 'h_82_YOLOv5_Fine_Tuning.ipynb',\n",
       " 'h_83_Dash소개.ipynb',\n",
       " 'h_90_Autoencoders_MNIST.ipynb',\n",
       " 'h_90_ML_overview.ipynb',\n",
       " 'h_90_SECOM_불량검출.ipynb',\n",
       " 'h_90_inspect_pill.ipynb',\n",
       " 'h_90_series_clustering.ipynb',\n",
       " 'h_90_telemetry.ipynb',\n",
       " 'h_90_경사하강법구현.ipynb',\n",
       " 'h_90_총판매량예측_prophet.ipynb',\n",
       " 'h_90_판매량예측_LSTM.ipynb',\n",
       " 'h_92_대용량텍스트데이터처리.ipynb',\n",
       " 'h_etc.ipynb',\n",
       " 'h_filter_design.ipynb',\n",
       " 'h_강의개요 Part 2-3.ipynb',\n",
       " 'h_참조11_액셀파일다루기.ipynb',\n",
       " 'h_참조11_테이블데이터다루기(팁).ipynb',\n",
       " 'h_추가할 것.ipynb',\n",
       " 'haar.xml',\n",
       " 'hh_17_머신러닝모델비교.ipynb',\n",
       " 'hh_19_고객이탈예측.ipynb',\n",
       " 'hh_20_ensemble.ipynb',\n",
       " 'hh_20_앙상블알고리즘.ipynb',\n",
       " 'hh_27_1_시계열 특성추가.ipynb',\n",
       " 'hh_27_1_시계열 특성추가_210628.ipynb',\n",
       " 'hh_29_시계열예측_자전거대여.ipynb',\n",
       " 'hh_31_시계열예측모델비교.ipynb',\n",
       " 'hh_33_PM_210531.ipynb',\n",
       " 'hh_34_ARIMA.ipynb',\n",
       " 'hh_34_LSTM_가정전력예측.ipynb',\n",
       " 'hh_34_PM_LSTM.ipynb',\n",
       " 'hh_34_PM_LSTM2_210418.ipynb',\n",
       " 'hh_34_telemetry.ipynb',\n",
       " 'hh_34_가정전기사용량EDA.ipynb',\n",
       " 'hh_34_수퍼마켓판매량예측_LSTM.ipynb',\n",
       " 'hh_34_시계열MLP_선형비교.ipynb',\n",
       " 'hh_34_시계열_rnn_사인파.ipynb',\n",
       " 'hh_34_오염예측_LSTM.ipynb',\n",
       " 'hh_34_전기사용예측_prophet.ipynb',\n",
       " 'hh_34_전력데이터_MS_RNN-2.ipynb',\n",
       " 'hh_34_전력데이터_MS_RNN.ipynb',\n",
       " 'hh_36_신경망기초_MLP_CNN.ipynb',\n",
       " 'hh_37_이미지인식.ipynb',\n",
       " 'hh_83_DashBoard.ipynb',\n",
       " 'im-circle.png',\n",
       " 'im-post.png',\n",
       " 'make_blur_noise (1).ipynb',\n",
       " 'merged_ID.csv',\n",
       " 'merged_ID.txt',\n",
       " 'output.csv',\n",
       " 'output.zip',\n",
       " 'personal_info',\n",
       " 'plot_Filtering.ipynb',\n",
       " 'pool.jpg',\n",
       " 'pool_2.jpg',\n",
       " 'set_angle_0402.csv',\n",
       " 'shop.zip',\n",
       " 'simple_merged_ID.csv',\n",
       " 'simple_merged_ID2.csv',\n",
       " 'smartphone_human.txt',\n",
       " 'smartphone_human.txt.zip',\n",
       " 'test.csv',\n",
       " 'test.ipynb',\n",
       " 'test_1.csv',\n",
       " 'web.ipynb',\n",
       " 'yolov5']"
      ]
     },
     "execution_count": 23,
     "metadata": {},
     "output_type": "execute_result"
    }
   ],
   "source": [
    "# 파일과 폴더 목록 얻기\n",
    "file_list = os.listdir()\n",
    "sorted(file_list)"
   ]
  },
  {
   "cell_type": "code",
   "execution_count": 24,
   "id": "a37b8d54",
   "metadata": {},
   "outputs": [
    {
     "name": "stdout",
     "output_type": "stream",
     "text": [
      "/Users/hwa-kim/Dropbox/lab/book12/h_02_pandas.ipynb\n",
      "/Users/hwa-kim/Dropbox/lab/book12/h_48_언어모델링.ipynb\n",
      "/Users/hwa-kim/Dropbox/lab/book12/test_1.csv\n",
      "/Users/hwa-kim/Dropbox/lab/book12/LGadd2\n",
      "/Users/hwa-kim/Dropbox/lab/book12/hh_20_앙상블알고리즘.ipynb\n",
      "/Users/hwa-kim/Dropbox/lab/book12/hh_34_오염예측_LSTM.ipynb\n",
      "/Users/hwa-kim/Dropbox/lab/book12/g_45_yolo.ipynb\n",
      "/Users/hwa-kim/Dropbox/lab/book12/g_71_1_Molecular_Visualization_using_RDkit.ipynb\n",
      "/Users/hwa-kim/Dropbox/lab/book12/h_90_series_clustering.ipynb\n",
      "/Users/hwa-kim/Dropbox/lab/book12/h_36_1_디지털필터출력.ipynb\n",
      "/Users/hwa-kim/Dropbox/lab/book12/hh_34_시계열_rnn_사인파.ipynb\n",
      "/Users/hwa-kim/Dropbox/lab/book12/DX_Motor.ipynb\n",
      "/Users/hwa-kim/Dropbox/lab/book12/hh_29_시계열예측_자전거대여.ipynb\n",
      "/Users/hwa-kim/Dropbox/lab/book12/plot_Filtering.ipynb\n",
      "/Users/hwa-kim/Dropbox/lab/book12/make_blur_noise (1).ipynb\n",
      "/Users/hwa-kim/Dropbox/lab/book12/g_60_2_매트릭스형선형최적화.ipynb\n",
      "/Users/hwa-kim/Dropbox/lab/book12/g_60_3_제약프로그래밍.ipynb\n",
      "/Users/hwa-kim/Dropbox/lab/book12/hh_33_PM_210531.ipynb\n",
      "/Users/hwa-kim/Dropbox/lab/book12/h_강의개요 Part 2-3.ipynb\n",
      "/Users/hwa-kim/Dropbox/lab/book12/h_09_테이블다루기.ipynb\n",
      "/Users/hwa-kim/Dropbox/lab/book12/smartphone_human.txt.zip\n",
      "/Users/hwa-kim/Dropbox/lab/book12/g_63_LP기초.ipynb\n",
      "/Users/hwa-kim/Dropbox/lab/book12/h_44_네이버영화평점.ipynb\n",
      "/Users/hwa-kim/Dropbox/lab/book12/hh_27_1_시계열 특성추가_210628.ipynb\n",
      "/Users/hwa-kim/Dropbox/lab/book12/Untitled1.ipynb\n",
      "/Users/hwa-kim/Dropbox/lab/book12/competitive-data-science-predict-future-sales\n",
      "/Users/hwa-kim/Dropbox/lab/book12/hh_34_전력데이터_MS_RNN.ipynb\n",
      "/Users/hwa-kim/Dropbox/lab/book12/SET_angle_V2.ipynb\n",
      "/Users/hwa-kim/Dropbox/lab/book12/.DS_Store\n",
      "/Users/hwa-kim/Dropbox/lab/book12/hh_34_전기사용예측_prophet.ipynb\n",
      "/Users/hwa-kim/Dropbox/lab/book12/hh_37_이미지인식.ipynb\n",
      "/Users/hwa-kim/Dropbox/lab/book12/h_17_머신러닝모델비교_210702.ipynb\n",
      "/Users/hwa-kim/Dropbox/lab/book12/h_39_opencv_face.ipynb\n",
      "/Users/hwa-kim/Dropbox/lab/book12/h_37_이미지인식_210418_ipynb.ipynb\n",
      "/Users/hwa-kim/Dropbox/lab/book12/h_90_telemetry.ipynb\n",
      "/Users/hwa-kim/Dropbox/lab/book12/h_01_파이썬기초.ipynb\n",
      "/Users/hwa-kim/Dropbox/lab/book12/hh_34_PM_LSTM2_210418.ipynb\n",
      "/Users/hwa-kim/Dropbox/lab/book12/im-post.png\n",
      "/Users/hwa-kim/Dropbox/lab/book12/digit9-2.png\n",
      "/Users/hwa-kim/Dropbox/lab/book12/h_90_inspect_pill.ipynb\n",
      "/Users/hwa-kim/Dropbox/lab/book12/merged_ID.csv\n",
      "/Users/hwa-kim/Dropbox/lab/book12/set_angle_0402.csv\n",
      "/Users/hwa-kim/Dropbox/lab/book12/h_추가할 것.ipynb\n",
      "/Users/hwa-kim/Dropbox/lab/book12/h_11_머신러닝개요.ipynb\n",
      "/Users/hwa-kim/Dropbox/lab/book12/h_27_1_시계열 특성추가_210701.ipynb\n",
      "/Users/hwa-kim/Dropbox/lab/book12/hh_34_전력데이터_MS_RNN-2.ipynb\n",
      "/Users/hwa-kim/Dropbox/lab/book12/a_02_pandas.ipynb\n",
      "/Users/hwa-kim/Dropbox/lab/book12/Untitled.ipynb\n",
      "/Users/hwa-kim/Dropbox/lab/book12/g_61_1_물류최적화개념.ipynb\n",
      "/Users/hwa-kim/Dropbox/lab/book12/h_19_0_다중출력회귀_210712.ipynb\n",
      "/Users/hwa-kim/Dropbox/lab/book12/g_71_5_GraphDTA_ipynb_.ipynb\n",
      "/Users/hwa-kim/Dropbox/lab/book12/hh_34_PM_LSTM.ipynb\n",
      "/Users/hwa-kim/Dropbox/lab/book12/im-circle.png\n",
      "/Users/hwa-kim/Dropbox/lab/book12/h_34_LSTM_기본개념.ipynb\n",
      "/Users/hwa-kim/Dropbox/lab/book12/web.ipynb\n",
      "/Users/hwa-kim/Dropbox/lab/book12/g_60_6_비클라우팅.ipynb\n",
      "/Users/hwa-kim/Dropbox/lab/book12/test.csv\n",
      "/Users/hwa-kim/Dropbox/lab/book12/output.zip\n",
      "/Users/hwa-kim/Dropbox/lab/book12/hh_19_고객이탈예측.ipynb\n",
      "/Users/hwa-kim/Dropbox/lab/book12/h_03_numpy.ipynb\n",
      "/Users/hwa-kim/Dropbox/lab/book12/h_25_클러스터링기초.ipynb\n",
      "/Users/hwa-kim/Dropbox/lab/book12/digits-lin.pkl\n",
      "/Users/hwa-kim/Dropbox/lab/book12/a_01_Python_Intro.ipynb\n",
      "/Users/hwa-kim/Dropbox/lab/book12/g_60_0_선형프로그래밍.ipynb\n",
      "/Users/hwa-kim/Dropbox/lab/book12/hh_34_telemetry.ipynb\n",
      "/Users/hwa-kim/Dropbox/lab/book12/g_84_flask.ipynb\n",
      "/Users/hwa-kim/Dropbox/lab/book12/h_14_분류순위평가.ipynb\n",
      "/Users/hwa-kim/Dropbox/lab/book12/h_32_Prophet_응용.ipynb\n",
      "/Users/hwa-kim/Dropbox/lab/book12/customer.csv\n",
      "/Users/hwa-kim/Dropbox/lab/book12/a_03_numpy.ipynb\n",
      "/Users/hwa-kim/Dropbox/lab/book12/.tmp.drivedownload\n",
      "/Users/hwa-kim/Dropbox/lab/book12/pool.jpg\n",
      "/Users/hwa-kim/Dropbox/lab/book12/h_00_쥬피터노트북.ipynb\n",
      "/Users/hwa-kim/Dropbox/lab/book12/digit2.png\n",
      "/Users/hwa-kim/Dropbox/lab/book12/h_15_통계분석과머신러닝.ipynb\n",
      "/Users/hwa-kim/Dropbox/lab/book12/h_80_웹크롤링.ipynb\n",
      "/Users/hwa-kim/Dropbox/lab/book12/h_43_스팸분류.ipynb\n",
      "/Users/hwa-kim/Dropbox/lab/book12/h_90_경사하강법구현.ipynb\n",
      "/Users/hwa-kim/Dropbox/lab/book12/hh_36_신경망기초_MLP_CNN.ipynb\n",
      "/Users/hwa-kim/Dropbox/lab/book12/g_61_2_물류최적화.ipynb\n",
      "/Users/hwa-kim/Dropbox/lab/book12/g_60_5_라우팅기초.ipynb\n",
      "/Users/hwa-kim/Dropbox/lab/book12/h_27_0_시계열분석기초.ipynb\n",
      "/Users/hwa-kim/Dropbox/lab/book12/pool_2.jpg\n",
      "/Users/hwa-kim/Dropbox/lab/book12/g_46_Yolo5_ing.ipynb\n",
      "/Users/hwa-kim/Dropbox/lab/book12/digits.pkl\n",
      "/Users/hwa-kim/Dropbox/lab/book12/h_18_분류예제_포도주.ipynb\n",
      "/Users/hwa-kim/Dropbox/lab/book12/output.csv\n",
      "/Users/hwa-kim/Dropbox/lab/book12/families.jpg\n",
      "/Users/hwa-kim/Dropbox/lab/book12/h_82_YOLOv5_Fine_Tuning.ipynb\n",
      "/Users/hwa-kim/Dropbox/lab/book12/h_90_ML_overview.ipynb\n",
      "/Users/hwa-kim/Dropbox/lab/book12/h_90_SECOM_불량검출.ipynb\n",
      "/Users/hwa-kim/Dropbox/lab/book12/h_12_회귀모델.ipynb\n",
      "/Users/hwa-kim/Dropbox/lab/book12/g_71_2_DeepChem_라이브러리를_활용한Solubility_Modeling.ipynb\n",
      "/Users/hwa-kim/Dropbox/lab/book12/h_08_탐색적분석.ipynb\n",
      "/Users/hwa-kim/Dropbox/lab/book12/__MACOSX\n",
      "/Users/hwa-kim/Dropbox/lab/book12/yolov5\n",
      "/Users/hwa-kim/Dropbox/lab/book12/h_81_YOLOv5_Marking.pptx\n",
      "/Users/hwa-kim/Dropbox/lab/book12/Merged_excel.xlsx\n",
      "/Users/hwa-kim/Dropbox/lab/book12/h_81_YOLOv5_Tutorial.ipynb\n",
      "/Users/hwa-kim/Dropbox/lab/book12/smartphone_human.txt\n",
      "/Users/hwa-kim/Dropbox/lab/book12/datasalon-master\n",
      "/Users/hwa-kim/Dropbox/lab/book12/haar.xml\n",
      "/Users/hwa-kim/Dropbox/lab/book12/h_46_단어벡터.ipynb\n",
      "/Users/hwa-kim/Dropbox/lab/book12/h_13_분류모델.ipynb\n",
      "/Users/hwa-kim/Dropbox/lab/book12/face-detect.png\n",
      "/Users/hwa-kim/Dropbox/lab/book12/PM_train_pre.csv\n",
      "/Users/hwa-kim/Dropbox/lab/book12/shop.zip\n",
      "/Users/hwa-kim/Dropbox/lab/book12/energy.csv\n",
      "/Users/hwa-kim/Dropbox/lab/book12/simple_merged_ID2.csv\n",
      "/Users/hwa-kim/Dropbox/lab/book12/gg_79_전력사용시계열분석.ipynb 복사본\n",
      "/Users/hwa-kim/Dropbox/lab/book12/g_60_8_OR_응용.ipynb\n",
      "/Users/hwa-kim/Dropbox/lab/book12/g_71_4_Pytorch를_사용한_QSAR_모델_구축Classification.ipynb\n",
      "/Users/hwa-kim/Dropbox/lab/book12/down.zip\n",
      "/Users/hwa-kim/Dropbox/lab/book12/gg_74_시계열기초LSTM.ipynb 복사본\n",
      "/Users/hwa-kim/Dropbox/lab/book12/hh_34_ARIMA.ipynb\n",
      "/Users/hwa-kim/Dropbox/lab/book12/merged_ID.txt\n",
      "/Users/hwa-kim/Dropbox/lab/book12/h_참조11_테이블데이터다루기(팁).ipynb\n",
      "/Users/hwa-kim/Dropbox/lab/book12/g_71_3_Pytorch를_사용한_QSAR_모델_구축Prediction.ipynb\n",
      "/Users/hwa-kim/Dropbox/lab/book12/hh_34_시계열MLP_선형비교.ipynb\n",
      "/Users/hwa-kim/Dropbox/lab/book12/h_참조11_액셀파일다루기.ipynb\n",
      "/Users/hwa-kim/Dropbox/lab/book12/personal_info\n",
      "/Users/hwa-kim/Dropbox/lab/book12/h_10_시계열데이터처리.ipynb\n",
      "/Users/hwa-kim/Dropbox/lab/book12/digit9.png\n",
      "/Users/hwa-kim/Dropbox/lab/book12/h_12_회귀모델_210711.ipynb\n",
      "/Users/hwa-kim/Dropbox/lab/book12/h_45_형태소분석.ipynb\n",
      "/Users/hwa-kim/Dropbox/lab/book12/h_39_opencv_face-Copy1.ipynb\n",
      "/Users/hwa-kim/Dropbox/lab/book12/h_28_prophet.ipynb\n",
      "/Users/hwa-kim/Dropbox/lab/book12/hh_34_가정전기사용량EDA.ipynb\n",
      "/Users/hwa-kim/Dropbox/lab/book12/h_34_시계열_rnn_전력사용예측.ipynb\n",
      "/Users/hwa-kim/Dropbox/lab/book12/h_42_뉴스기사분석.ipynb\n",
      "/Users/hwa-kim/Dropbox/lab/book12/g_60_7_라우팅고급.ipynb\n",
      "/Users/hwa-kim/Dropbox/lab/book12/.ipynb_checkpoints\n",
      "/Users/hwa-kim/Dropbox/lab/book12/h_33_PM_210717.ipynb\n",
      "/Users/hwa-kim/Dropbox/lab/book12/h_83_Dash소개.ipynb\n",
      "/Users/hwa-kim/Dropbox/lab/book12/chromedriver\n",
      "/Users/hwa-kim/Dropbox/lab/book12/h_19_1_다중출력회귀시계열_210712.ipynb\n",
      "/Users/hwa-kim/Dropbox/lab/book12/h_90_총판매량예측_prophet.ipynb\n",
      "/Users/hwa-kim/Dropbox/lab/book12/h_etc.ipynb\n",
      "/Users/hwa-kim/Dropbox/lab/book12/h_24_Imbalance_CreditCard.ipynb\n",
      "/Users/hwa-kim/Dropbox/lab/book12/hh_34_수퍼마켓판매량예측_LSTM.ipynb\n",
      "/Users/hwa-kim/Dropbox/lab/book12/h_90_Autoencoders_MNIST.ipynb\n",
      "/Users/hwa-kim/Dropbox/lab/book12/h_21_XGBoost_LightGBM_0704.ipynb\n",
      "/Users/hwa-kim/Dropbox/lab/book12/h_26_클러스터링_최적_k.ipynb\n",
      "/Users/hwa-kim/Dropbox/lab/book12/h_47_IMDB_Embedding.ipynb\n",
      "/Users/hwa-kim/Dropbox/lab/book12/h_35_시퀀스패턴분류_210703_.ipynb\n",
      "/Users/hwa-kim/Dropbox/lab/book12/face-pickup.png\n",
      "/Users/hwa-kim/Dropbox/lab/book12/h_04_파일다루기.ipynb\n",
      "/Users/hwa-kim/Dropbox/lab/book12/hh_27_1_시계열 특성추가.ipynb\n",
      "/Users/hwa-kim/Dropbox/lab/book12/h_23_차원축소_특성공학.ipynb\n",
      "/Users/hwa-kim/Dropbox/lab/book12/h_16_로지스틱회귀.ipynb\n",
      "/Users/hwa-kim/Dropbox/lab/book12/h_20_앙상블알고리즘_0624.ipynb\n",
      "/Users/hwa-kim/Dropbox/lab/book12/h_40_opencv_digit.ipynb\n",
      "/Users/hwa-kim/Dropbox/lab/book12/hh_17_머신러닝모델비교.ipynb\n",
      "/Users/hwa-kim/Dropbox/lab/book12/hh_31_시계열예측모델비교.ipynb\n",
      "/Users/hwa-kim/Dropbox/lab/book12/h_05_함수사용.ipynb\n",
      "/Users/hwa-kim/Dropbox/lab/book12/h_90_판매량예측_LSTM.ipynb\n",
      "/Users/hwa-kim/Dropbox/lab/book12/h_41_object_detect.ipynb\n",
      "/Users/hwa-kim/Dropbox/lab/book12/g_81_스트링_객체변환.ipynb\n",
      "/Users/hwa-kim/Dropbox/lab/book12/simple_merged_ID.csv\n",
      "/Users/hwa-kim/Dropbox/lab/book12/LGadd2.zip\n",
      "/Users/hwa-kim/Dropbox/lab/book12/test.ipynb\n",
      "/Users/hwa-kim/Dropbox/lab/book12/h_06_데이터전처리.ipynb\n",
      "/Users/hwa-kim/Dropbox/lab/book12/h_38_전이학습.ipynb\n",
      "/Users/hwa-kim/Dropbox/lab/book12/g_60_4_배정.ipynb\n",
      "/Users/hwa-kim/Dropbox/lab/book12/h_34_1_MLP_CNN_210418.ipynb\n",
      "/Users/hwa-kim/Dropbox/lab/book12/h_04_1_파일다루기연습.ipynb\n",
      "/Users/hwa-kim/Dropbox/lab/book12/hh_34_LSTM_가정전력예측.ipynb\n",
      "/Users/hwa-kim/Dropbox/lab/book12/h_92_대용량텍스트데이터처리.ipynb\n",
      "/Users/hwa-kim/Dropbox/lab/book12/hh_83_DashBoard.ipynb\n",
      "/Users/hwa-kim/Dropbox/lab/book12/g_60_1_정수형선형프로그래밍.ipynb\n",
      "/Users/hwa-kim/Dropbox/lab/book12/h_31_자전거대여수예측_0701.ipynb\n",
      "/Users/hwa-kim/Dropbox/lab/book12/g_54_토픽모델링.ipynb\n",
      "/Users/hwa-kim/Dropbox/lab/book12/down2.zip\n",
      "/Users/hwa-kim/Dropbox/lab/book12/NGdata1.zip\n",
      "/Users/hwa-kim/Dropbox/lab/book12/h_filter_design.ipynb\n",
      "/Users/hwa-kim/Dropbox/lab/book12/h_07_데이터전처리실습.ipynb\n",
      "/Users/hwa-kim/Dropbox/lab/book12/hh_20_ensemble.ipynb\n"
     ]
    }
   ],
   "source": [
    "# 파일의 전체 경로, full path 만들기\n",
    "cur_dir = os.getcwd()\n",
    "for file_name in file_list:\n",
    "    full_path = os.path.join(cur_dir, file_name)\n",
    "    print(full_path)"
   ]
  },
  {
   "cell_type": "markdown",
   "id": "86e53540",
   "metadata": {},
   "source": [
    "### 폴더 찾기"
   ]
  },
  {
   "cell_type": "code",
   "execution_count": 25,
   "id": "821ab350",
   "metadata": {},
   "outputs": [
    {
     "name": "stdout",
     "output_type": "stream",
     "text": [
      "폴더: LGadd2\n",
      "폴더: competitive-data-science-predict-future-sales\n",
      "폴더: .tmp.drivedownload\n",
      "폴더: __MACOSX\n",
      "폴더: yolov5\n",
      "폴더: datasalon-master\n",
      "폴더: personal_info\n",
      "폴더: .ipynb_checkpoints\n"
     ]
    }
   ],
   "source": [
    "for file_name in file_list:\n",
    "    if os.path.isdir(file_name):\n",
    "        print(\"폴더:\", file_name)"
   ]
  },
  {
   "cell_type": "markdown",
   "id": "85844c89",
   "metadata": {
    "colab": {},
    "colab_type": "code",
    "id": "tzRujJzJYyGX"
   },
   "source": [
    "## 기타 폴더 및 파일 관리\n",
    "### os 패키지에서\n",
    "- 폴더 생성 mkdir()\n",
    "- 폴더 위치 이동 chdir()\n",
    "- 파일 이름 변경 rename()\n",
    "- 파일 삭제 remove()\n",
    "- 폴더 삭제 rmdir()"
   ]
  },
  {
   "cell_type": "code",
   "execution_count": 39,
   "id": "7f1d80ff",
   "metadata": {},
   "outputs": [
    {
     "name": "stdout",
     "output_type": "stream",
     "text": [
      "digit2.png     digit9.png     digits.pkl     down2.zip\r\n",
      "digit9-2.png   digits-lin.pkl down.zip\r\n",
      "\r\n",
      "data:\r\n",
      "\r\n",
      "datasalon-master:\r\n",
      "\u001b[34m01_초판\u001b[m\u001b[m                  README.md\r\n",
      "\u001b[34m02_개정판\u001b[m\u001b[m\r\n"
     ]
    }
   ],
   "source": [
    "!ls d*"
   ]
  },
  {
   "cell_type": "code",
   "execution_count": 37,
   "id": "bac88ac4",
   "metadata": {},
   "outputs": [],
   "source": [
    "# 폴더가 없으면 새로 만들기\n",
    "if not os.path.exists(\"./data\"):\n",
    "    os.mkdir(\"./data\")"
   ]
  },
  {
   "cell_type": "code",
   "execution_count": 38,
   "id": "1fe15b03",
   "metadata": {},
   "outputs": [],
   "source": [
    "# (참고) 폴더가 있으면 \"지우고\" 새로 만들기\n",
    "if os.path.exists(\"./data\"):\n",
    "    os.rmdir(\"./data\")\n",
    "    os.mkdir(\"./data\")"
   ]
  },
  {
   "cell_type": "code",
   "execution_count": 40,
   "id": "8d55f545",
   "metadata": {},
   "outputs": [],
   "source": [
    "# 폴더 이동\n",
    "os.chdir('./data')"
   ]
  },
  {
   "cell_type": "code",
   "execution_count": 41,
   "id": "77997de0",
   "metadata": {},
   "outputs": [
    {
     "data": {
      "text/plain": [
       "'/Users/hwa-kim/Dropbox/lab/book12/data'"
      ]
     },
     "execution_count": 41,
     "metadata": {},
     "output_type": "execute_result"
    }
   ],
   "source": [
    "os.getcwd()"
   ]
  },
  {
   "cell_type": "code",
   "execution_count": 29,
   "id": "740b7d01",
   "metadata": {},
   "outputs": [],
   "source": [
    "# 폴더 이동\n",
    "os.chdir('../')"
   ]
  },
  {
   "cell_type": "code",
   "execution_count": 30,
   "id": "5956c3bb",
   "metadata": {},
   "outputs": [
    {
     "data": {
      "text/plain": [
       "'/Users/hwa-kim/Dropbox/lab/book12'"
      ]
     },
     "execution_count": 30,
     "metadata": {},
     "output_type": "execute_result"
    }
   ],
   "source": [
    "os.getcwd()"
   ]
  },
  {
   "cell_type": "code",
   "execution_count": 31,
   "id": "5b7eea17",
   "metadata": {
    "colab": {},
    "colab_type": "code",
    "id": "xZF6FRGgYyGg",
    "scrolled": false
   },
   "outputs": [
    {
     "name": "stdout",
     "output_type": "stream",
     "text": [
      "a,b,c,d,e \n",
      "1,2,3,4,5\n",
      "6,7,8,9,10\n",
      "11,12,13,14,15\n",
      "16,17,18,19,20\n",
      "\n"
     ]
    }
   ],
   "source": [
    "# 파일 이름 변경\n",
    "os.rename('output.csv','new_output.csv')\n",
    "with open('new_output.csv') as f: print(f.read())"
   ]
  },
  {
   "cell_type": "code",
   "execution_count": 32,
   "id": "b4d0f1be",
   "metadata": {
    "colab": {},
    "colab_type": "code",
    "id": "xZF6FRGgYyGg"
   },
   "outputs": [],
   "source": [
    "# 파일 삭제\n",
    "os.remove('new_output.csv')"
   ]
  },
  {
   "cell_type": "code",
   "execution_count": 33,
   "id": "000d15c2",
   "metadata": {},
   "outputs": [],
   "source": [
    "# 폴더 삭제\n",
    "os.rmdir('./data')"
   ]
  }
 ],
 "metadata": {
  "kernelspec": {
   "display_name": "Python 3",
   "language": "python",
   "name": "python3"
  },
  "language_info": {
   "codemirror_mode": {
    "name": "ipython",
    "version": 3
   },
   "file_extension": ".py",
   "mimetype": "text/x-python",
   "name": "python",
   "nbconvert_exporter": "python",
   "pygments_lexer": "ipython3",
   "version": "3.8.8"
  },
  "toc": {
   "base_numbering": 1,
   "nav_menu": {},
   "number_sections": false,
   "sideBar": true,
   "skip_h1_title": false,
   "title_cell": "Table of Contents",
   "title_sidebar": "Contents",
   "toc_cell": false,
   "toc_position": {},
   "toc_section_display": true,
   "toc_window_display": false
  }
 },
 "nbformat": 4,
 "nbformat_minor": 5
}
